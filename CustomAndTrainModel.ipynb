{
 "cells": [
  {
   "cell_type": "code",
   "execution_count": 19,
   "id": "dec9a305-7910-434b-92c6-b1fc8c8197fc",
   "metadata": {},
   "outputs": [],
   "source": [
    "import os"
   ]
  },
  {
   "cell_type": "code",
   "execution_count": 20,
   "id": "5e8ad5fa-6cda-49cf-b67f-9ce1ec5dbb24",
   "metadata": {},
   "outputs": [
    {
     "data": {
      "text/plain": [
       "'D:\\\\Code_school_nam3ki2\\\\KhoaHocDuLieu\\\\NhanDienMuBaoHiem'"
      ]
     },
     "execution_count": 20,
     "metadata": {},
     "output_type": "execute_result"
    }
   ],
   "source": [
    "PRETRAIN_MODEL_NAME = 'ssd_mobilenet_v2_fpnlite_320x320_coco17_tpu-8' #Tên pretrain model tải về\n",
    "PRETRAIN_MODEL_URL = 'http://download.tensorflow.org/models/object_detection/tf2/20200711/ssd_mobilenet_v2_fpnlite_320x320_coco17_tpu-8.tar.gz' #URL pretrain model tải về\n",
    "TF_RECORD_SCRIPT_NAME = 'generate_tfrecord.py' #Tên file convert xml sang tfrecord\n",
    "LABEL_MAP_NAME = 'label_map.pbtxt' #Tên file label\n",
    "MAIN_FOLDER_PATH = os.getcwd()\n",
    "CUSTOM_MODEL_NAME = 'my_ssd_mobnet' # Tên của custom model\n",
    "MAIN_FOLDER_PATH"
   ]
  },
  {
   "cell_type": "code",
   "execution_count": 21,
   "id": "d5e18c44-14a6-4c78-8769-2a784dd7bef0",
   "metadata": {},
   "outputs": [
    {
     "data": {
      "text/plain": [
       "{'WORKSPACE_PATH': 'D:\\\\Code_school_nam3ki2\\\\KhoaHocDuLieu\\\\NhanDienMuBaoHiem\\\\Tensorflow\\\\workspace',\n",
       " 'SCRIPTS_PATH': 'D:\\\\Code_school_nam3ki2\\\\KhoaHocDuLieu\\\\NhanDienMuBaoHiem\\\\Tensorflow\\\\scripts',\n",
       " 'APIMODEL_PATH': 'D:\\\\Code_school_nam3ki2\\\\KhoaHocDuLieu\\\\NhanDienMuBaoHiem\\\\Tensorflow\\\\models',\n",
       " 'ANNOTATION_PATH': 'D:\\\\Code_school_nam3ki2\\\\KhoaHocDuLieu\\\\NhanDienMuBaoHiem\\\\Tensorflow\\\\workspace\\\\annotations',\n",
       " 'IMAGE_PATH': 'D:\\\\Code_school_nam3ki2\\\\KhoaHocDuLieu\\\\NhanDienMuBaoHiem\\\\Tensorflow\\\\workspace\\\\images',\n",
       " 'MODEL_PATH': 'D:\\\\Code_school_nam3ki2\\\\KhoaHocDuLieu\\\\NhanDienMuBaoHiem\\\\Tensorflow\\\\workspace\\\\models',\n",
       " 'PRETRAINED_MODEL_PATH': 'D:\\\\Code_school_nam3ki2\\\\KhoaHocDuLieu\\\\NhanDienMuBaoHiem\\\\Tensorflow\\\\workspace\\\\pre-trained-models',\n",
       " 'CHECKPOINT_PATH': 'D:\\\\Code_school_nam3ki2\\\\KhoaHocDuLieu\\\\NhanDienMuBaoHiem\\\\Tensorflow\\\\workspace\\\\models\\\\my_ssd_mobnet',\n",
       " 'EXPORTED_MODEL_PATH': 'D:\\\\Code_school_nam3ki2\\\\KhoaHocDuLieu\\\\NhanDienMuBaoHiem\\\\Tensorflow\\\\workspace\\\\exported-models\\\\my_ssd_mobnet',\n",
       " 'PROTOC_PATH': 'D:\\\\Code_school_nam3ki2\\\\KhoaHocDuLieu\\\\NhanDienMuBaoHiem\\\\Tensorflow\\\\protoc'}"
      ]
     },
     "execution_count": 21,
     "metadata": {},
     "output_type": "execute_result"
    }
   ],
   "source": [
    "paths = {\n",
    "    'WORKSPACE_PATH': os.path.join(MAIN_FOLDER_PATH, 'Tensorflow', 'workspace'), #Folder lảm việc, lưu dữ liệu khi train, valid và test\n",
    "    'SCRIPTS_PATH': os.path.join(MAIN_FOLDER_PATH, 'Tensorflow','scripts'), #Folder chạy các file script liên quan đến convert ảnh\n",
    "    'APIMODEL_PATH': os.path.join(MAIN_FOLDER_PATH, 'Tensorflow','models'), #Folder chứa tensorflow object detection api\n",
    "    'ANNOTATION_PATH': os.path.join(MAIN_FOLDER_PATH, 'Tensorflow', 'workspace','annotations'), #Folder chứa các file config và file record\n",
    "    'IMAGE_PATH': os.path.join(MAIN_FOLDER_PATH, 'Tensorflow', 'workspace','images'), #Folder chứa ảnh\n",
    "    'MODEL_PATH': os.path.join(MAIN_FOLDER_PATH, 'Tensorflow', 'workspace','models'), #Folder chứa dữ liệu model khi làm việc(train, valid, test)\n",
    "    'PRETRAINED_MODEL_PATH': os.path.join(MAIN_FOLDER_PATH,'Tensorflow', 'workspace','pre-trained-models'), #Folder chứa pretrain model\n",
    "    'CHECKPOINT_PATH': os.path.join(MAIN_FOLDER_PATH,'Tensorflow', 'workspace','models',CUSTOM_MODEL_NAME), #Folder chứa các checkpoint\n",
    "    'EXPORTED_MODEL_PATH': os.path.join(MAIN_FOLDER_PATH,'Tensorflow', 'workspace','exported-models', CUSTOM_MODEL_NAME), #Folder chứa model được lưu lại\n",
    "    'PROTOC_PATH':os.path.join(MAIN_FOLDER_PATH,'Tensorflow','protoc') #Folder chứa protocol\n",
    "}\n",
    "paths"
   ]
  },
  {
   "cell_type": "code",
   "execution_count": 22,
   "id": "a4b90685-78bb-4126-bd46-e54d839b6d5a",
   "metadata": {},
   "outputs": [
    {
     "data": {
      "text/plain": [
       "{'PIPELINE_CONFIG': 'D:\\\\Code_school_nam3ki2\\\\KhoaHocDuLieu\\\\NhanDienMuBaoHiem\\\\Tensorflow\\\\workspace\\\\models\\\\my_ssd_mobnet\\\\pipeline.config',\n",
       " 'TF_RECORD_SCRIPT': 'D:\\\\Code_school_nam3ki2\\\\KhoaHocDuLieu\\\\NhanDienMuBaoHiem\\\\Tensorflow\\\\scripts\\\\generate_tfrecord.py',\n",
       " 'LABELMAP': 'D:\\\\Code_school_nam3ki2\\\\KhoaHocDuLieu\\\\NhanDienMuBaoHiem\\\\Tensorflow\\\\workspace\\\\annotations\\\\label_map.pbtxt'}"
      ]
     },
     "execution_count": 22,
     "metadata": {},
     "output_type": "execute_result"
    }
   ],
   "source": [
    "files = {\n",
    "    'PIPELINE_CONFIG':os.path.join(MAIN_FOLDER_PATH,'Tensorflow', 'workspace','models', CUSTOM_MODEL_NAME, 'pipeline.config'), #Path file pipelineconfig\n",
    "    'TF_RECORD_SCRIPT': os.path.join(paths['SCRIPTS_PATH'], TF_RECORD_SCRIPT_NAME), #Path đến file convert từ xml sang tfrecord \n",
    "    'LABELMAP': os.path.join(paths['ANNOTATION_PATH'], LABEL_MAP_NAME) #Path label_config\n",
    "}\n",
    "files"
   ]
  },
  {
   "cell_type": "markdown",
   "id": "ac0d54b9-d06b-4001-a14b-be7a5155e97d",
   "metadata": {},
   "source": [
    "# 1. Cấu hình và train model"
   ]
  },
  {
   "cell_type": "markdown",
   "id": "95d82d54-17ed-47b9-9642-43119db9c4a1",
   "metadata": {},
   "source": [
    "## Tạo labelmap"
   ]
  },
  {
   "cell_type": "code",
   "execution_count": 23,
   "id": "4cfe4069-3bdc-4ea8-9d37-dfb911b3e25e",
   "metadata": {},
   "outputs": [],
   "source": [
    "labels = [\n",
    "    {'name':'helmet', 'id':1},\n",
    "    {'name':'head', 'id':2}\n",
    "] \n",
    "\n",
    "with open(files['LABELMAP'], 'w') as f:\n",
    "    for label in labels:\n",
    "        f.write('item { \\n')\n",
    "        f.write('\\tname:\\'{}\\'\\n'.format(label['name']))\n",
    "        f.write('\\tid:{}\\n'.format(label['id']))\n",
    "        f.write('}\\n')"
   ]
  },
  {
   "cell_type": "markdown",
   "id": "aea786f1-8589-46a1-b742-02af3a9e1a93",
   "metadata": {},
   "source": [
    "## Tạo tfrecord"
   ]
  },
  {
   "cell_type": "code",
   "execution_count": 12,
   "id": "fe68f974-df2c-4d8b-92df-3a860791496b",
   "metadata": {},
   "outputs": [],
   "source": [
    "# Nếu chưa có file TF_RECORD_SCRIPT thì clone về\n",
    "if not os.path.exists(files['TF_RECORD_SCRIPT']):\n",
    "    convert_xml_to_tfrecord_path = MAIN_FOLDER_PATH + \"\\\\scripts_py\\\\generate_tfrecord.py\" \n",
    "    !copy {convert_xml_to_tfrecord_path} {files['TF_RECORD_SCRIPT']}"
   ]
  },
  {
   "cell_type": "code",
   "execution_count": 14,
   "id": "61765d09-4e69-43db-8a82-4c0e5f1be2e4",
   "metadata": {},
   "outputs": [],
   "source": [
    "img_train_dir = r\"D:\\Code_school_nam3ki2\\TestModel\\Tensorflow\\workspace\\images\\train\"\n",
    "img_valid_dir = r\"D:\\Code_school_nam3ki2\\TestModel\\Tensorflow\\workspace\\images\\valid\"\n",
    "img_test_dir = r\"D:\\Code_school_nam3ki2\\TestModel\\Tensorflow\\workspace\\images\\test\""
   ]
  },
  {
   "cell_type": "code",
   "execution_count": null,
   "id": "dd4b0bcf-08da-4e2e-83e1-e9f1ef249810",
   "metadata": {
    "scrolled": true
   },
   "outputs": [],
   "source": [
    "# Khởi tạo TF Record\n",
    "!python {files['TF_RECORD_SCRIPT']} -x {img_train_dir} -l {files['LABELMAP']} -o {os.path.join(paths['ANNOTATION_PATH'], 'train.record')}\n",
    "!python {files['TF_RECORD_SCRIPT']} -x {img_valid_dir} -l {files['LABELMAP']} -o {os.path.join(paths['ANNOTATION_PATH'], 'test.record')}\n",
    "!python {files['TF_RECORD_SCRIPT']} -x {img_test_dir} -l {files['LABELMAP']} -o {os.path.join(paths['ANNOTATION_PATH'], 'valid.record')}"
   ]
  },
  {
   "cell_type": "markdown",
   "id": "c97fb2f4-50a7-4de7-9126-cb45bbe3f5d6",
   "metadata": {},
   "source": [
    "# Train custom model"
   ]
  },
  {
   "cell_type": "code",
   "execution_count": 25,
   "id": "da998ec8-ec6e-4c21-81d1-e3cb0c57e377",
   "metadata": {},
   "outputs": [
    {
     "name": "stdout",
     "output_type": "stream",
     "text": [
      "        1 file(s) copied.\n"
     ]
    }
   ],
   "source": [
    "#Copy model config từ file config của pretrain_model\n",
    "!copy {os.path.join(paths['PRETRAINED_MODEL_PATH'], PRETRAIN_MODEL_NAME, 'pipeline.config')} {os.path.join(paths['CHECKPOINT_PATH'])}"
   ]
  },
  {
   "cell_type": "code",
   "execution_count": 27,
   "id": "f2956c07-806d-4282-a4f0-c1f34857c955",
   "metadata": {},
   "outputs": [],
   "source": [
    "import tensorflow as tf\n",
    "from object_detection.utils import config_util"
   ]
  },
  {
   "cell_type": "code",
   "execution_count": 29,
   "id": "e888b436-1d81-40ff-9c25-e0ffcee49ccc",
   "metadata": {},
   "outputs": [],
   "source": [
    "num_steps = 100000\n",
    "warm_step = 1000\n",
    "learning_rate_base = 0.08\n",
    "warmup_learning_rate = 0.026666\n",
    "\n",
    "# Đọc tệp pipeline.config và lấy ra tất cả các cấu hình.\n",
    "configs = config_util.get_configs_from_pipeline_file(files['PIPELINE_CONFIG'])\n",
    "\n",
    "# Custom lại model\n",
    "configs['model'].ssd.num_classes = len(labels)\n",
    "configs['train_config'].batch_size = 4\n",
    "configs['train_config'].fine_tune_checkpoint = os.path.join(paths['PRETRAINED_MODEL_PATH'], PRETRAIN_MODEL_NAME, 'checkpoint', 'ckpt-0')\n",
    "configs['train_config'].fine_tune_checkpoint_type = \"detection\"\n",
    "configs['train_config'].num_steps = num_steps\n",
    "configs['train_config'].optimizer.momentum_optimizer.learning_rate.cosine_decay_learning_rate.total_steps = num_steps\n",
    "configs['train_config'].optimizer.momentum_optimizer.learning_rate.cosine_decay_learning_rate.warmup_learning_rate = warmup_learning_rate\n",
    "configs['train_config'].optimizer.momentum_optimizer.learning_rate.cosine_decay_learning_rate.learning_rate_base = learning_rate_base\n",
    "configs['train_config'].optimizer.momentum_optimizer.learning_rate.cosine_decay_learning_rate.warmup_steps = warm_step\n",
    "configs['train_input_config'].label_map_path = files['LABELMAP']\n",
    "configs['train_input_config'].tf_record_input_reader.input_path[:] = [os.path.join(paths['ANNOTATION_PATH'], 'train.record')]\n",
    "configs['eval_input_configs'][0].label_map_path = files['LABELMAP']\n",
    "configs['eval_input_configs'][0].tf_record_input_reader.input_path[:] = [os.path.join(paths['ANNOTATION_PATH'], 'valid.record')]"
   ]
  },
  {
   "cell_type": "code",
   "execution_count": 30,
   "id": "0f7e03d8-6688-4db6-b81c-3a492af1650f",
   "metadata": {},
   "outputs": [
    {
     "name": "stdout",
     "output_type": "stream",
     "text": [
      "INFO:tensorflow:Writing pipeline config file to D:\\Code_school_nam3ki2\\KhoaHocDuLieu\\NhanDienMuBaoHiem\\Tensorflow\\workspace\\models\\my_ssd_mobnet\\pipeline.config\n"
     ]
    }
   ],
   "source": [
    "# Lưu lại custom model vào file config\n",
    "pipeline_config = config_util.create_pipeline_proto_from_configs(configs)\n",
    "config_util.save_pipeline_config(pipeline_config, os.path.dirname(files['PIPELINE_CONFIG']))"
   ]
  },
  {
   "cell_type": "code",
   "execution_count": 33,
   "id": "9c90c5b2-0f7c-4185-9269-84a4b4d3ea72",
   "metadata": {},
   "outputs": [],
   "source": [
    "# Đường dẫn lưu folder lưu kết quả train\n",
    "save_dir = paths['CHECKPOINT_PATH']"
   ]
  },
  {
   "cell_type": "code",
   "execution_count": 34,
   "id": "c0389062-b95b-457b-a31c-e7f950dd601f",
   "metadata": {},
   "outputs": [],
   "source": [
    "# File train model\n",
    "TRAINING_SCRIPT = os.path.join(paths['APIMODEL_PATH'], 'research', 'object_detection', 'model_main_tf2.py')"
   ]
  },
  {
   "cell_type": "code",
   "execution_count": 35,
   "id": "2199ca48-f9e4-44d9-9e48-8ad578ba7f48",
   "metadata": {},
   "outputs": [],
   "source": [
    "# Câu lệnh train model\n",
    "command = \"python {} --model_dir={} --pipeline_config_path={} --num_train_steps={} --alsologtostderr\".format(TRAINING_SCRIPT, save_dir, files['PIPELINE_CONFIG'], num_steps)"
   ]
  },
  {
   "cell_type": "code",
   "execution_count": null,
   "id": "00918458-639b-4afa-bf74-0aacce019031",
   "metadata": {},
   "outputs": [],
   "source": [
    "!command"
   ]
  }
 ],
 "metadata": {
  "kernelspec": {
   "display_name": "py310",
   "language": "python",
   "name": "py310"
  },
  "language_info": {
   "codemirror_mode": {
    "name": "ipython",
    "version": 3
   },
   "file_extension": ".py",
   "mimetype": "text/x-python",
   "name": "python",
   "nbconvert_exporter": "python",
   "pygments_lexer": "ipython3",
   "version": "3.10.14"
  }
 },
 "nbformat": 4,
 "nbformat_minor": 5
}
