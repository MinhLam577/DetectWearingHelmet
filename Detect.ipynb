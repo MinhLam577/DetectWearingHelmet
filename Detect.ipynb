{
 "cells": [
  {
   "cell_type": "code",
   "execution_count": 2,
   "id": "d01b0bce-7e7c-4faa-bc33-3b0e703a5cfb",
   "metadata": {},
   "outputs": [],
   "source": [
    "import os\n",
    "import tensorflow as tf\n",
    "from object_detection.utils import label_map_util\n",
    "from object_detection.utils import visualization_utils as viz_utils\n",
    "from object_detection.builders import model_builder\n",
    "from object_detection.utils import config_util\n",
    "import numpy as np\n",
    "import cv2"
   ]
  },
  {
   "cell_type": "code",
   "execution_count": 3,
   "id": "139bda3b-f209-4979-9a8d-d97735c8b8b1",
   "metadata": {},
   "outputs": [],
   "source": [
    "config_path = r'D:\\Code_school_nam3ki2\\KhoaHocDuLieu\\NhanDienMuBaoHiem\\Tensorflow\\workspace\\exported-models\\my_ssd_mobnet\\pipeline.config'\n",
    "label_path = r'Tensorflow\\workspace\\annotations\\label_map.pbtxt'\n",
    "checkpoint_path = r'Tensorflow\\workspace\\models\\my_ssd_mobnet'\n",
    "test_folder_path = r'D:\\datasets-internet - Copy\\train-data\\images'\n",
    "result_folder_path = r'images_result'\n",
    "MAIN_FOLDER_PATH = os.getcwd()"
   ]
  },
  {
   "cell_type": "code",
   "execution_count": 4,
   "id": "6f959c54-3a83-49be-90a3-357099f1d9c7",
   "metadata": {},
   "outputs": [
    {
     "name": "stdout",
     "output_type": "stream",
     "text": [
      "{1: {'id': 1, 'name': 'head'}, 2: {'id': 2, 'name': 'helmet'}}\n"
     ]
    },
    {
     "data": {
      "text/plain": [
       "<tensorflow.python.checkpoint.checkpoint.CheckpointLoadStatus at 0x1c4ce23f910>"
      ]
     },
     "execution_count": 4,
     "metadata": {},
     "output_type": "execute_result"
    }
   ],
   "source": [
    "category_index = label_map_util.create_category_index_from_labelmap(os.path.join(MAIN_FOLDER_PATH, label_path))\n",
    "# Load pipeline config and build a detection model\n",
    "configs = config_util.get_configs_from_pipeline_file(os.path.join(MAIN_FOLDER_PATH, config_path))\n",
    "detection_model = model_builder.build(model_config=configs['model'], is_training=False)\n",
    "print(category_index)\n",
    "# Restore checkpoint\n",
    "ckpt = tf.compat.v2.train.Checkpoint(model=detection_model)\n",
    "ckpt.restore(r'D:\\Code_school_nam3ki2\\KhoaHocDuLieu\\NhanDienMuBaoHiem\\Tensorflow\\workspace\\exported-models\\my_ssd_mobnet\\checkpoint\\ckpt-0').expect_partial()"
   ]
  },
  {
   "cell_type": "code",
   "execution_count": 5,
   "id": "12c300ef-407d-4532-9c1d-0d48787b4483",
   "metadata": {},
   "outputs": [],
   "source": [
    "@tf.function\n",
    "def detect_fn(image):\n",
    "    image, shapes = detection_model.preprocess(image)\n",
    "    prediction_dict = detection_model.predict(image, shapes)\n",
    "    detections = detection_model.postprocess(prediction_dict, shapes)\n",
    "    return detections"
   ]
  },
  {
   "cell_type": "code",
   "execution_count": 28,
   "id": "5f248443-4051-4dd2-ace6-9e74ca175e3a",
   "metadata": {},
   "outputs": [],
   "source": [
    "def predict_helmet(img_path):\n",
    "    img = cv2.imread(img_path)\n",
    "    img = cv2.cvtColor(img, cv2.COLOR_BGR2RGB)\n",
    "    # img = cv2.resize(img, (320, 320))\n",
    "    image_np = np.array(img)\n",
    "    input_tensor = tf.convert_to_tensor(np.expand_dims(image_np, 0), dtype=tf.float32)\n",
    "    detections = detect_fn(input_tensor)\n",
    "\n",
    "    num_detections = int(detections.pop('num_detections'))\n",
    "    detections = {key: value[0, :num_detections].numpy()\n",
    "                for key, value in detections.items()}\n",
    "    detections['num_detections'] = num_detections\n",
    "\n",
    "    # detection_classes should be ints.\n",
    "    detections['detection_classes'] = detections['detection_classes'].astype(np.int64)\n",
    "\n",
    "    label_id_offset = 1\n",
    "    image_np_with_detections = image_np.copy()\n",
    "    image_np_crop = image_np.copy()\n",
    "    viz_utils.visualize_boxes_and_labels_on_image_array(\n",
    "                image_np_with_detections,\n",
    "                detections['detection_boxes'], \n",
    "                detections['detection_classes'] + label_id_offset, #Cộng vô để khớp với category_index\n",
    "                detections['detection_scores'],\n",
    "                category_index,\n",
    "                use_normalized_coordinates=True, #Chuấn hóa về 0 => 1\n",
    "                max_boxes_to_draw=100, \n",
    "                min_score_thresh = 0.5,\n",
    "                agnostic_mode=False) #Tất cả các hộp đều được vẽ cùng màu\n",
    "    return image_np_with_detections"
   ]
  },
  {
   "cell_type": "code",
   "execution_count": 29,
   "id": "4590afaf-0f3d-422d-bb8d-673e503506c9",
   "metadata": {},
   "outputs": [],
   "source": [
    "def Get_ground_truth_from_xml(annotation_path):\n",
    "    import xml.etree.ElementTree as ET\n",
    "    tree = ET.parse(annotation_path)\n",
    "    root = tree.getroot()\n",
    "    boxes = []\n",
    "    names = []\n",
    "    for member in root.findall('object'):\n",
    "        names.append(member[0].text)\n",
    "        box = []\n",
    "        box.append(member[5][0].text) #xmin\n",
    "        box.append(member[5][1].text) #ymin\n",
    "        box.append(member[5][2].text) #xmax\n",
    "        box.append(member[5][3].text) #ymax\n",
    "        boxes.append(box)\n",
    "    classes = [v.get('id') for n in names for k, v in category_index.items() if v.get('name') == n]\n",
    "    return [list(map(int, box)) for box in boxes], classes, names"
   ]
  },
  {
   "cell_type": "code",
   "execution_count": 30,
   "id": "1ddbaace-09d8-4b55-a4f5-481ae2868790",
   "metadata": {},
   "outputs": [],
   "source": [
    "def draw_ground_truth(img_path, boxes, classes, names):\n",
    "    img = cv2.imread(img_path)\n",
    "    ground_truth_boxes = boxes\n",
    "    ground_truth_classes = classes\n",
    "    for i in range(len(ground_truth_boxes)):\n",
    "        if names[i] == 'helmet':\n",
    "            cv2.rectangle(img, (ground_truth_boxes[i][0], ground_truth_boxes[i][1]), (ground_truth_boxes[i][2], ground_truth_boxes[i][3]), (0, 255, 0), 2)\n",
    "        else:\n",
    "            cv2.rectangle(img, (ground_truth_boxes[i][0], ground_truth_boxes[i][1]), (ground_truth_boxes[i][2], ground_truth_boxes[i][3]), (0, 0, 255), 2)\n",
    "    return img"
   ]
  },
  {
   "cell_type": "code",
   "execution_count": 33,
   "id": "b23080f6-93c3-4a92-87c8-9214ce5c6468",
   "metadata": {},
   "outputs": [],
   "source": [
    "img_path = r\"D:\\Code_school_nam3ki2\\KhoaHocDuLieu\\NhanDienMuBaoHiem\\56494f73-6b89-4ab3-a812-c8d14c7cccfa.jpg\"\n",
    "img_detect = predict_helmet(img_path)\n",
    "img_detect = cv2.cvtColor(img_detect, cv2.COLOR_RGB2BGR)"
   ]
  },
  {
   "cell_type": "code",
   "execution_count": 34,
   "id": "1ea72edd-1cc2-47ab-b0cb-faa36efbfb5c",
   "metadata": {},
   "outputs": [
    {
     "data": {
      "text/plain": [
       "-1"
      ]
     },
     "execution_count": 34,
     "metadata": {},
     "output_type": "execute_result"
    }
   ],
   "source": [
    "# cv2.imshow('img_ground_truth', img_ground_truth)\n",
    "cv2.imshow('img_detect', img_detect)\n",
    "cv2.waitKey(0)"
   ]
  },
  {
   "cell_type": "code",
   "execution_count": null,
   "id": "a2d8705d-75e5-445f-ae55-6da9aae87c56",
   "metadata": {},
   "outputs": [],
   "source": []
  }
 ],
 "metadata": {
  "kernelspec": {
   "display_name": "py310",
   "language": "python",
   "name": "py310"
  },
  "language_info": {
   "codemirror_mode": {
    "name": "ipython",
    "version": 3
   },
   "file_extension": ".py",
   "mimetype": "text/x-python",
   "name": "python",
   "nbconvert_exporter": "python",
   "pygments_lexer": "ipython3",
   "version": "3.10.14"
  }
 },
 "nbformat": 4,
 "nbformat_minor": 5
}
