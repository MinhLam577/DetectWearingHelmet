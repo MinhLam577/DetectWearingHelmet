{
 "cells": [
  {
   "cell_type": "code",
   "execution_count": 21,
   "metadata": {
    "executionInfo": {
     "elapsed": 459,
     "status": "ok",
     "timestamp": 1713145588902,
     "user": {
      "displayName": "Nhật Minh Lâm",
      "userId": "04323035584587404867"
     },
     "user_tz": -420
    },
    "id": "OgMSrnOZiag2"
   },
   "outputs": [],
   "source": [
    "import os"
   ]
  },
  {
   "cell_type": "markdown",
   "metadata": {
    "id": "lGBDiDG2EJck"
   },
   "source": [
    "# 1. Khai báo tên model, pretrain_model và file cần làm việc"
   ]
  },
  {
   "cell_type": "code",
   "execution_count": 28,
   "metadata": {
    "executionInfo": {
     "elapsed": 330,
     "status": "ok",
     "timestamp": 1713145594373,
     "user": {
      "displayName": "Nhật Minh Lâm",
      "userId": "04323035584587404867"
     },
     "user_tz": -420
    },
    "id": "iBEllNXrMdiC"
   },
   "outputs": [
    {
     "data": {
      "text/plain": [
       "'D:\\\\TestClone\\\\DetectWearingHelmetDjangoWebsite'"
      ]
     },
     "execution_count": 28,
     "metadata": {},
     "output_type": "execute_result"
    }
   ],
   "source": [
    "PRETRAINED_MODEL_NAME = 'ssd_mobilenet_v2_fpnlite_640x640_coco17_tpu-8'\n",
    "PRETRAINED_MODEL_URL = 'http://download.tensorflow.org/models/object_detection/tf2/20200711/ssd_mobilenet_v2_fpnlite_640x640_coco17_tpu-8.tar.gz'\n",
    "TF_RECORD_SCRIPT_NAME = 'generate_tfrecord.py' #Tên file convert xml sang tfrecord\n",
    "LABEL_MAP_NAME = 'label_map.pbtxt' #Tên file label\n",
    "MAIN_FOLDER_PATH = os.getcwd()\n",
    "CUSTOM_MODEL_NAME = 'my_ssd_mobnet' # Tên của custom model\n",
    "MAIN_FOLDER_PATH"
   ]
  },
  {
   "cell_type": "markdown",
   "metadata": {
    "id": "l7nUH7obEfNp"
   },
   "source": [
    "# 2. Khai báo các đường dẫn thư mục làm việc"
   ]
  },
  {
   "cell_type": "code",
   "execution_count": 23,
   "metadata": {
    "executionInfo": {
     "elapsed": 485,
     "status": "ok",
     "timestamp": 1713145597029,
     "user": {
      "displayName": "Nhật Minh Lâm",
      "userId": "04323035584587404867"
     },
     "user_tz": -420
    },
    "id": "omvukk5dY9Gz"
   },
   "outputs": [
    {
     "data": {
      "text/plain": [
       "{'WORKSPACE_PATH': 'D:\\\\TestClone\\\\DetectWearingHelmetDjangoWebsite\\\\Tensorflow\\\\workspace',\n",
       " 'SCRIPTS_PATH': 'D:\\\\TestClone\\\\DetectWearingHelmetDjangoWebsite\\\\Tensorflow\\\\scripts',\n",
       " 'APIMODEL_PATH': 'D:\\\\TestClone\\\\DetectWearingHelmetDjangoWebsite\\\\Tensorflow\\\\models',\n",
       " 'ANNOTATION_PATH': 'D:\\\\TestClone\\\\DetectWearingHelmetDjangoWebsite\\\\Tensorflow\\\\workspace\\\\annotations',\n",
       " 'IMAGE_PATH': 'D:\\\\TestClone\\\\DetectWearingHelmetDjangoWebsite\\\\Tensorflow\\\\workspace\\\\images',\n",
       " 'MODEL_PATH': 'D:\\\\TestClone\\\\DetectWearingHelmetDjangoWebsite\\\\Tensorflow\\\\workspace\\\\models',\n",
       " 'PRETRAINED_MODEL_PATH': 'D:\\\\TestClone\\\\DetectWearingHelmetDjangoWebsite\\\\Tensorflow\\\\workspace\\\\pre-trained-models',\n",
       " 'CHECKPOINT_PATH': 'D:\\\\TestClone\\\\DetectWearingHelmetDjangoWebsite\\\\Tensorflow\\\\workspace\\\\models\\\\my_ssd_mobnet',\n",
       " 'EXPORTED_MODEL_PATH': 'D:\\\\TestClone\\\\DetectWearingHelmetDjangoWebsite\\\\Tensorflow\\\\workspace\\\\exported-models\\\\my_ssd_mobnet',\n",
       " 'PROTOC_PATH': 'D:\\\\TestClone\\\\DetectWearingHelmetDjangoWebsite\\\\Tensorflow\\\\protoc'}"
      ]
     },
     "execution_count": 23,
     "metadata": {},
     "output_type": "execute_result"
    }
   ],
   "source": [
    "paths = {\n",
    "    'WORKSPACE_PATH': os.path.join(MAIN_FOLDER_PATH, 'Tensorflow', 'workspace'), #Folder lảm việc, lưu dữ liệu khi train, valid và test\n",
    "    'SCRIPTS_PATH': os.path.join(MAIN_FOLDER_PATH, 'Tensorflow','scripts'), #Folder chạy các file script liên quan đến convert ảnh\n",
    "    'APIMODEL_PATH': os.path.join(MAIN_FOLDER_PATH, 'Tensorflow','models'), #Folder chứa tensorflow object detection api\n",
    "    'ANNOTATION_PATH': os.path.join(MAIN_FOLDER_PATH, 'Tensorflow', 'workspace','annotations'), #Folder chứa các file config và file record\n",
    "    'IMAGE_PATH': os.path.join(MAIN_FOLDER_PATH, 'Tensorflow', 'workspace','images'), #Folder chứa ảnh\n",
    "    'MODEL_PATH': os.path.join(MAIN_FOLDER_PATH, 'Tensorflow', 'workspace','models'), #Folder chứa dữ liệu model khi làm việc(train, valid, test)\n",
    "    'PRETRAINED_MODEL_PATH': os.path.join(MAIN_FOLDER_PATH,'Tensorflow', 'workspace','pre-trained-models'), #Folder chứa pretrain model\n",
    "    'CHECKPOINT_PATH': os.path.join(MAIN_FOLDER_PATH,'Tensorflow', 'workspace','models',CUSTOM_MODEL_NAME), #Folder chứa các checkpoint\n",
    "    'EXPORTED_MODEL_PATH': os.path.join(MAIN_FOLDER_PATH,'Tensorflow', 'workspace','exported-models', CUSTOM_MODEL_NAME), #Folder chứa model được lưu lại\n",
    "    'PROTOC_PATH':os.path.join(MAIN_FOLDER_PATH,'Tensorflow','protoc') #Folder chứa protocol\n",
    "}\n",
    "paths"
   ]
  },
  {
   "cell_type": "markdown",
   "metadata": {
    "id": "k7bMtjL_FE0B"
   },
   "source": [
    "# 3. Khai báo các đường dẫn file làm việc"
   ]
  },
  {
   "cell_type": "code",
   "execution_count": 24,
   "metadata": {
    "executionInfo": {
     "elapsed": 313,
     "status": "ok",
     "timestamp": 1713145600946,
     "user": {
      "displayName": "Nhật Minh Lâm",
      "userId": "04323035584587404867"
     },
     "user_tz": -420
    },
    "id": "Y5B2r2Nmo-1U"
   },
   "outputs": [
    {
     "data": {
      "text/plain": [
       "{'PIPELINE_CONFIG': 'D:\\\\TestClone\\\\DetectWearingHelmetDjangoWebsite\\\\Tensorflow\\\\workspace\\\\models\\\\my_ssd_mobnet\\\\pipeline.config',\n",
       " 'TF_RECORD_SCRIPT': 'D:\\\\TestClone\\\\DetectWearingHelmetDjangoWebsite\\\\Tensorflow\\\\scripts\\\\generate_tfrecord.py',\n",
       " 'LABELMAP': 'D:\\\\TestClone\\\\DetectWearingHelmetDjangoWebsite\\\\Tensorflow\\\\workspace\\\\annotations\\\\label_map.pbtxt'}"
      ]
     },
     "execution_count": 24,
     "metadata": {},
     "output_type": "execute_result"
    }
   ],
   "source": [
    "files = {\n",
    "    'PIPELINE_CONFIG':os.path.join(MAIN_FOLDER_PATH,'Tensorflow', 'workspace','models', CUSTOM_MODEL_NAME, 'pipeline.config'), #Path file pipelineconfig\n",
    "    'TF_RECORD_SCRIPT': os.path.join(paths['SCRIPTS_PATH'], TF_RECORD_SCRIPT_NAME), #Path đến file convert từ xml sang tfrecord \n",
    "    'LABELMAP': os.path.join(paths['ANNOTATION_PATH'], LABEL_MAP_NAME) #Path label_config\n",
    "}\n",
    "files"
   ]
  },
  {
   "cell_type": "markdown",
   "metadata": {
    "id": "1pgb0SkvFM2y"
   },
   "source": [
    "## Khởi tạo các đường dẫn thư mục và tải các thư viện cần thiết"
   ]
  },
  {
   "cell_type": "code",
   "execution_count": 5,
   "metadata": {
    "executionInfo": {
     "elapsed": 1638,
     "status": "ok",
     "timestamp": 1713145620116,
     "user": {
      "displayName": "Nhật Minh Lâm",
      "userId": "04323035584587404867"
     },
     "user_tz": -420
    },
    "id": "rhX18Dg_5y6Q"
   },
   "outputs": [],
   "source": [
    "for path in paths.values():\n",
    "    if not os.path.exists(path):\n",
    "          !mkdir {path}"
   ]
  },
  {
   "cell_type": "code",
   "execution_count": 11,
   "metadata": {
    "colab": {
     "base_uri": "https://localhost:8080/"
    },
    "executionInfo": {
     "elapsed": 21150,
     "status": "ok",
     "timestamp": 1713145679545,
     "user": {
      "displayName": "Nhật Minh Lâm",
      "userId": "04323035584587404867"
     },
     "user_tz": -420
    },
    "id": "PZCCz-woBwpG",
    "outputId": "f20b0d1a-aaa4-4a58-cb2c-7b9cc81f21bf"
   },
   "outputs": [
    {
     "name": "stdout",
     "output_type": "stream",
     "text": [
      "Collecting wget\n",
      "  Using cached wget-3.2-py3-none-any.whl\n",
      "Installing collected packages: wget\n",
      "Successfully installed wget-3.2\n"
     ]
    }
   ],
   "source": [
    "!pip install wget"
   ]
  },
  {
   "cell_type": "code",
   "execution_count": 18,
   "metadata": {
    "executionInfo": {
     "elapsed": 309,
     "status": "ok",
     "timestamp": 1713145682652,
     "user": {
      "displayName": "Nhật Minh Lâm",
      "userId": "04323035584587404867"
     },
     "user_tz": -420
    },
    "id": "iVIH4DV953o0"
   },
   "outputs": [],
   "source": [
    "import wget"
   ]
  },
  {
   "cell_type": "markdown",
   "metadata": {
    "id": "LIjpKYDeFwE_"
   },
   "source": [
    "### Clone model tensorflow và object_detection"
   ]
  },
  {
   "cell_type": "code",
   "execution_count": 14,
   "metadata": {
    "colab": {
     "base_uri": "https://localhost:8080/"
    },
    "executionInfo": {
     "elapsed": 41167,
     "status": "ok",
     "timestamp": 1713145731251,
     "user": {
      "displayName": "Nhật Minh Lâm",
      "userId": "04323035584587404867"
     },
     "user_tz": -420
    },
    "id": "4VirYPC955y2",
    "outputId": "80074789-28e6-4d9f-8ec9-60034db89e7f"
   },
   "outputs": [],
   "source": [
    "if not os.path.exists(os.path.join(paths['APIMODEL_PATH'], 'research', 'object_detection')):\n",
    "    !git clone https://github.com/tensorflow/models {os.path.join(paths['APIMODEL_PATH'])}"
   ]
  },
  {
   "cell_type": "markdown",
   "metadata": {
    "id": "Rr3RaSExJLCm"
   },
   "source": [
    "### Cài đặt và giải nén protocol buffer, cài đặt và cấu hình môi trường protocol buffer cho việc sử dụng TensorFlow Object Detection API."
   ]
  },
  {
   "cell_type": "code",
   "execution_count": 15,
   "metadata": {
    "colab": {
     "base_uri": "https://localhost:8080/"
    },
    "executionInfo": {
     "elapsed": 73084,
     "status": "ok",
     "timestamp": 1713145821693,
     "user": {
      "displayName": "Nhật Minh Lâm",
      "userId": "04323035584587404867"
     },
     "user_tz": -420
    },
    "id": "Uiost0kHIe2_",
    "outputId": "e7add60b-9e6d-4b7e-aab1-819aa3c54043"
   },
   "outputs": [
    {
     "name": "stdout",
     "output_type": "stream",
     "text": [
      "100% [..........................................................................] 1468733 / 1468733"
     ]
    }
   ],
   "source": [
    "# Tải Protocol\n",
    "if len(os.listdir(paths['PROTOC_PATH'])) == 0:\n",
    "    url=\"https://github.com/protocolbuffers/protobuf/releases/download/v3.15.6/protoc-3.15.6-win64.zip\"\n",
    "    wget.download(url)\n",
    "    os.system(f\"move protoc-3.15.6-win64.zip {paths['PROTOC_PATH']}\")\n",
    "    os.system(f\"cd {paths['PROTOC_PATH']} && tar -xf protoc-3.15.6-win64.zip\")"
   ]
  },
  {
   "cell_type": "code",
   "execution_count": 16,
   "metadata": {},
   "outputs": [],
   "source": [
    "# Thêm đường dẫn folder bin vào biến môi trường\n",
    "os.environ['PATH'] += os.path.abspath(os.path.join(paths['PROTOC_PATH'], 'bin'))"
   ]
  },
  {
   "cell_type": "code",
   "execution_count": null,
   "metadata": {},
   "outputs": [],
   "source": [
    "#Kiểm tra đường dẫn hợp lệ hay chưa, đảm bảo đường dẫn của ...\\Tensorflow\\protoc\\bin ở dòng cuối\n",
    "os.environ['PATH']"
   ]
  },
  {
   "cell_type": "code",
   "execution_count": 18,
   "metadata": {},
   "outputs": [
    {
     "data": {
      "text/plain": [
       "1"
      ]
     },
     "execution_count": 18,
     "metadata": {},
     "output_type": "execute_result"
    }
   ],
   "source": [
    "# Compile protobuf files and install all required libraries\n",
    "os.system(f\"cd Tensorflow/models/research && protoc object_detection/protos/*.proto --python_out=. && copy object_detection\\\\packages\\\\tf2\\\\setup.py setup.py && python setup.py build && python setup.py install\")"
   ]
  },
  {
   "cell_type": "code",
   "execution_count": 19,
   "metadata": {},
   "outputs": [
    {
     "data": {
      "text/plain": [
       "0"
      ]
     },
     "execution_count": 19,
     "metadata": {},
     "output_type": "execute_result"
    }
   ],
   "source": [
    "os.system(f\"cd Tensorflow/models/research/slim && pip install -e .\")"
   ]
  },
  {
   "cell_type": "code",
   "execution_count": null,
   "metadata": {},
   "outputs": [],
   "source": [
    "#Tải các thư viện cần thiết\n",
    "!pip install -r requirements.txt"
   ]
  },
  {
   "cell_type": "code",
   "execution_count": 34,
   "metadata": {},
   "outputs": [],
   "source": [
    "# Chỉnh sửa lại tfexample_decoder.py để phù hợp với tensorflow 2.15.0\n",
    "import shutil \n",
    "import re\n",
    "original_path = os.path.join(MAIN_FOLDER_PATH, 'myvenv\\\\Lib\\\\site-packages\\\\tf_slim-1.1.0-py3.11.egg\\\\tf_slim\\\\data\\\\tfexample_decoder.py')\n",
    "with open (original_path, 'r') as file: \n",
    "    content = file.read()\n",
    "content = re.sub(r'import abc', 'import tensorflow as tf\\n\\nimport abc', content)\n",
    "content = re.sub(r'control_flow_ops.case', 'tf.case', content) \n",
    "content = re.sub(r'control_flow_ops.cond', 'tf.compat.v1.cond', content)\n",
    "with open(original_path, 'w') as file: \n",
    "    file.write(content)"
   ]
  },
  {
   "cell_type": "markdown",
   "metadata": {
    "id": "36kstoRZJY9S"
   },
   "source": [
    "### Kiểm tra tất cả thư viện đã tải về thành công"
   ]
  },
  {
   "cell_type": "code",
   "execution_count": 10,
   "metadata": {},
   "outputs": [],
   "source": [
    "import tensorflow as tf"
   ]
  },
  {
   "cell_type": "code",
   "execution_count": 15,
   "metadata": {
    "colab": {
     "base_uri": "https://localhost:8080/"
    },
    "executionInfo": {
     "elapsed": 77104,
     "status": "ok",
     "timestamp": 1713145998682,
     "user": {
      "displayName": "Nhật Minh Lâm",
      "userId": "04323035584587404867"
     },
     "user_tz": -420
    },
    "id": "l-jnLE9E592W",
    "outputId": "8488c8e5-da69-4cbe-c8a8-ebfbc7c7e3ae"
   },
   "outputs": [
    {
     "name": "stderr",
     "output_type": "stream",
     "text": [
      "2024-05-29 21:29:57.976990: I tensorflow/core/util/port.cc:113] oneDNN custom operations are on. You may see slightly different numerical results due to floating-point round-off errors from different computation orders. To turn them off, set the environment variable `TF_ENABLE_ONEDNN_OPTS=0`.\n",
      "WARNING:tensorflow:From d:\\TestClone\\DetectWearingHelmetDjangoWebsite\\myvenv\\Lib\\site-packages\\keras\\src\\losses.py:2976: The name tf.losses.sparse_softmax_cross_entropy is deprecated. Please use tf.compat.v1.losses.sparse_softmax_cross_entropy instead.\n",
      "\n",
      "Running tests under Python 3.11.9: d:\\TestClone\\DetectWearingHelmetDjangoWebsite\\myvenv\\Scripts\\python.exe\n",
      "[ RUN      ] ModelBuilderTF2Test.test_create_center_net_deepmac\n",
      "WARNING:tensorflow:From d:\\TestClone\\DetectWearingHelmetDjangoWebsite\\myvenv\\Lib\\site-packages\\keras\\src\\backend.py:873: The name tf.get_default_graph is deprecated. Please use tf.compat.v1.get_default_graph instead.\n",
      "\n",
      "W0529 21:30:04.988887  6708 module_wrapper.py:149] From d:\\TestClone\\DetectWearingHelmetDjangoWebsite\\myvenv\\Lib\\site-packages\\keras\\src\\backend.py:873: The name tf.get_default_graph is deprecated. Please use tf.compat.v1.get_default_graph instead.\n",
      "\n",
      "2024-05-29 21:30:05.008819: I tensorflow/core/platform/cpu_feature_guard.cc:182] This TensorFlow binary is optimized to use available CPU instructions in performance-critical operations.\n",
      "To enable the following instructions: SSE SSE2 SSE3 SSE4.1 SSE4.2 AVX2 AVX_VNNI FMA, in other operations, rebuild TensorFlow with the appropriate compiler flags.\n",
      "WARNING:tensorflow:`tf.keras.layers.experimental.SyncBatchNormalization` endpoint is deprecated and will be removed in a future release. Please use `tf.keras.layers.BatchNormalization` with parameter `synchronized` set to True.\n",
      "W0529 21:30:05.127726  6708 batch_normalization.py:1531] `tf.keras.layers.experimental.SyncBatchNormalization` endpoint is deprecated and will be removed in a future release. Please use `tf.keras.layers.BatchNormalization` with parameter `synchronized` set to True.\n",
      "d:\\TestClone\\DetectWearingHelmetDjangoWebsite\\myvenv\\Lib\\site-packages\\object_detection-0.1-py3.11.egg\\object_detection\\builders\\model_builder.py:1112: DeprecationWarning: The 'warn' function is deprecated, use 'warning' instead\n",
      "  logging.warn(('Building experimental DeepMAC meta-arch.'\n",
      "W0529 21:30:05.436440  6708 model_builder.py:1112] Building experimental DeepMAC meta-arch. Some features may be omitted.\n",
      "INFO:tensorflow:time(__main__.ModelBuilderTF2Test.test_create_center_net_deepmac): 1.23s\n",
      "I0529 21:30:06.018650  6708 test_util.py:2574] time(__main__.ModelBuilderTF2Test.test_create_center_net_deepmac): 1.23s\n",
      "[       OK ] ModelBuilderTF2Test.test_create_center_net_deepmac\n",
      "[ RUN      ] ModelBuilderTF2Test.test_create_center_net_model0 (customize_head_params=True)\n",
      "WARNING:tensorflow:From D:\\TestClone\\DetectWearingHelmetDjangoWebsite\\Tensorflow\\models\\research\\object_detection\\builders\\model_builder_tf2_test.py:80: The name tf.gfile.Open is deprecated. Please use tf.io.gfile.GFile instead.\n",
      "\n",
      "W0529 21:30:06.067798  6708 module_wrapper.py:149] From D:\\TestClone\\DetectWearingHelmetDjangoWebsite\\Tensorflow\\models\\research\\object_detection\\builders\\model_builder_tf2_test.py:80: The name tf.gfile.Open is deprecated. Please use tf.io.gfile.GFile instead.\n",
      "\n",
      "INFO:tensorflow:time(__main__.ModelBuilderTF2Test.test_create_center_net_model0 (customize_head_params=True)): 0.74s\n",
      "I0529 21:30:06.760598  6708 test_util.py:2574] time(__main__.ModelBuilderTF2Test.test_create_center_net_model0 (customize_head_params=True)): 0.74s\n",
      "[       OK ] ModelBuilderTF2Test.test_create_center_net_model0 (customize_head_params=True)\n",
      "[ RUN      ] ModelBuilderTF2Test.test_create_center_net_model1 (customize_head_params=False)\n",
      "INFO:tensorflow:time(__main__.ModelBuilderTF2Test.test_create_center_net_model1 (customize_head_params=False)): 0.67s\n",
      "I0529 21:30:07.432151  6708 test_util.py:2574] time(__main__.ModelBuilderTF2Test.test_create_center_net_model1 (customize_head_params=False)): 0.67s\n",
      "[       OK ] ModelBuilderTF2Test.test_create_center_net_model1 (customize_head_params=False)\n",
      "[ RUN      ] ModelBuilderTF2Test.test_create_center_net_model_from_keypoints\n",
      "INFO:tensorflow:time(__main__.ModelBuilderTF2Test.test_create_center_net_model_from_keypoints): 0.73s\n",
      "I0529 21:30:08.169647  6708 test_util.py:2574] time(__main__.ModelBuilderTF2Test.test_create_center_net_model_from_keypoints): 0.73s\n",
      "[       OK ] ModelBuilderTF2Test.test_create_center_net_model_from_keypoints\n",
      "[ RUN      ] ModelBuilderTF2Test.test_create_center_net_model_mobilenet\n",
      "WARNING:tensorflow:From d:\\TestClone\\DetectWearingHelmetDjangoWebsite\\myvenv\\Lib\\site-packages\\object_detection-0.1-py3.11.egg\\object_detection\\models\\keras_models\\mobilenet_v2.py:231: The name tf.placeholder_with_default is deprecated. Please use tf.compat.v1.placeholder_with_default instead.\n",
      "\n",
      "W0529 21:30:08.223302  6708 module_wrapper.py:149] From d:\\TestClone\\DetectWearingHelmetDjangoWebsite\\myvenv\\Lib\\site-packages\\object_detection-0.1-py3.11.egg\\object_detection\\models\\keras_models\\mobilenet_v2.py:231: The name tf.placeholder_with_default is deprecated. Please use tf.compat.v1.placeholder_with_default instead.\n",
      "\n",
      "WARNING:tensorflow:From d:\\TestClone\\DetectWearingHelmetDjangoWebsite\\myvenv\\Lib\\site-packages\\keras\\src\\layers\\normalization\\batch_normalization.py:979: The name tf.nn.fused_batch_norm is deprecated. Please use tf.compat.v1.nn.fused_batch_norm instead.\n",
      "\n",
      "W0529 21:30:08.474472  6708 module_wrapper.py:149] From d:\\TestClone\\DetectWearingHelmetDjangoWebsite\\myvenv\\Lib\\site-packages\\keras\\src\\layers\\normalization\\batch_normalization.py:979: The name tf.nn.fused_batch_norm is deprecated. Please use tf.compat.v1.nn.fused_batch_norm instead.\n",
      "\n",
      "INFO:tensorflow:time(__main__.ModelBuilderTF2Test.test_create_center_net_model_mobilenet): 6.07s\n",
      "I0529 21:30:14.240715  6708 test_util.py:2574] time(__main__.ModelBuilderTF2Test.test_create_center_net_model_mobilenet): 6.07s\n",
      "[       OK ] ModelBuilderTF2Test.test_create_center_net_model_mobilenet\n",
      "[ RUN      ] ModelBuilderTF2Test.test_create_experimental_model\n",
      "INFO:tensorflow:time(__main__.ModelBuilderTF2Test.test_create_experimental_model): 0.0s\n",
      "I0529 21:30:14.258299  6708 test_util.py:2574] time(__main__.ModelBuilderTF2Test.test_create_experimental_model): 0.0s\n",
      "[       OK ] ModelBuilderTF2Test.test_create_experimental_model\n",
      "[ RUN      ] ModelBuilderTF2Test.test_create_faster_rcnn_from_config_with_crop_feature0 (True)\n",
      "INFO:tensorflow:time(__main__.ModelBuilderTF2Test.test_create_faster_rcnn_from_config_with_crop_feature0 (True)): 0.05s\n",
      "I0529 21:30:14.306275  6708 test_util.py:2574] time(__main__.ModelBuilderTF2Test.test_create_faster_rcnn_from_config_with_crop_feature0 (True)): 0.05s\n",
      "[       OK ] ModelBuilderTF2Test.test_create_faster_rcnn_from_config_with_crop_feature0 (True)\n",
      "[ RUN      ] ModelBuilderTF2Test.test_create_faster_rcnn_from_config_with_crop_feature1 (False)\n",
      "INFO:tensorflow:time(__main__.ModelBuilderTF2Test.test_create_faster_rcnn_from_config_with_crop_feature1 (False)): 0.05s\n",
      "I0529 21:30:14.356977  6708 test_util.py:2574] time(__main__.ModelBuilderTF2Test.test_create_faster_rcnn_from_config_with_crop_feature1 (False)): 0.05s\n",
      "[       OK ] ModelBuilderTF2Test.test_create_faster_rcnn_from_config_with_crop_feature1 (False)\n",
      "[ RUN      ] ModelBuilderTF2Test.test_create_faster_rcnn_model_from_config_with_example_miner\n",
      "INFO:tensorflow:time(__main__.ModelBuilderTF2Test.test_create_faster_rcnn_model_from_config_with_example_miner): 0.06s\n",
      "I0529 21:30:14.418913  6708 test_util.py:2574] time(__main__.ModelBuilderTF2Test.test_create_faster_rcnn_model_from_config_with_example_miner): 0.06s\n",
      "[       OK ] ModelBuilderTF2Test.test_create_faster_rcnn_model_from_config_with_example_miner\n",
      "[ RUN      ] ModelBuilderTF2Test.test_create_faster_rcnn_models_from_config_faster_rcnn_with_matmul\n",
      "INFO:tensorflow:time(__main__.ModelBuilderTF2Test.test_create_faster_rcnn_models_from_config_faster_rcnn_with_matmul): 0.2s\n",
      "I0529 21:30:14.615245  6708 test_util.py:2574] time(__main__.ModelBuilderTF2Test.test_create_faster_rcnn_models_from_config_faster_rcnn_with_matmul): 0.2s\n",
      "[       OK ] ModelBuilderTF2Test.test_create_faster_rcnn_models_from_config_faster_rcnn_with_matmul\n",
      "[ RUN      ] ModelBuilderTF2Test.test_create_faster_rcnn_models_from_config_faster_rcnn_without_matmul\n",
      "INFO:tensorflow:time(__main__.ModelBuilderTF2Test.test_create_faster_rcnn_models_from_config_faster_rcnn_without_matmul): 0.2s\n",
      "I0529 21:30:14.816086  6708 test_util.py:2574] time(__main__.ModelBuilderTF2Test.test_create_faster_rcnn_models_from_config_faster_rcnn_without_matmul): 0.2s\n",
      "[       OK ] ModelBuilderTF2Test.test_create_faster_rcnn_models_from_config_faster_rcnn_without_matmul\n",
      "[ RUN      ] ModelBuilderTF2Test.test_create_faster_rcnn_models_from_config_mask_rcnn_with_matmul\n",
      "INFO:tensorflow:time(__main__.ModelBuilderTF2Test.test_create_faster_rcnn_models_from_config_mask_rcnn_with_matmul): 0.32s\n",
      "I0529 21:30:15.135129  6708 test_util.py:2574] time(__main__.ModelBuilderTF2Test.test_create_faster_rcnn_models_from_config_mask_rcnn_with_matmul): 0.32s\n",
      "[       OK ] ModelBuilderTF2Test.test_create_faster_rcnn_models_from_config_mask_rcnn_with_matmul\n",
      "[ RUN      ] ModelBuilderTF2Test.test_create_faster_rcnn_models_from_config_mask_rcnn_without_matmul\n",
      "INFO:tensorflow:time(__main__.ModelBuilderTF2Test.test_create_faster_rcnn_models_from_config_mask_rcnn_without_matmul): 0.25s\n",
      "I0529 21:30:15.387327  6708 test_util.py:2574] time(__main__.ModelBuilderTF2Test.test_create_faster_rcnn_models_from_config_mask_rcnn_without_matmul): 0.25s\n",
      "[       OK ] ModelBuilderTF2Test.test_create_faster_rcnn_models_from_config_mask_rcnn_without_matmul\n",
      "[ RUN      ] ModelBuilderTF2Test.test_create_rfcn_model_from_config\n",
      "INFO:tensorflow:time(__main__.ModelBuilderTF2Test.test_create_rfcn_model_from_config): 0.3s\n",
      "I0529 21:30:15.685402  6708 test_util.py:2574] time(__main__.ModelBuilderTF2Test.test_create_rfcn_model_from_config): 0.3s\n",
      "[       OK ] ModelBuilderTF2Test.test_create_rfcn_model_from_config\n",
      "[ RUN      ] ModelBuilderTF2Test.test_create_ssd_fpn_model_from_config\n",
      "INFO:tensorflow:time(__main__.ModelBuilderTF2Test.test_create_ssd_fpn_model_from_config): 0.06s\n",
      "I0529 21:30:15.744499  6708 test_util.py:2574] time(__main__.ModelBuilderTF2Test.test_create_ssd_fpn_model_from_config): 0.06s\n",
      "[       OK ] ModelBuilderTF2Test.test_create_ssd_fpn_model_from_config\n",
      "[ RUN      ] ModelBuilderTF2Test.test_create_ssd_models_from_config\n",
      "I0529 21:30:16.122103  6708 ssd_efficientnet_bifpn_feature_extractor.py:161] EfficientDet EfficientNet backbone version: efficientnet-b0\n",
      "I0529 21:30:16.123109  6708 ssd_efficientnet_bifpn_feature_extractor.py:163] EfficientDet BiFPN num filters: 64\n",
      "I0529 21:30:16.123109  6708 ssd_efficientnet_bifpn_feature_extractor.py:164] EfficientDet BiFPN num iterations: 3\n",
      "I0529 21:30:16.156800  6708 efficientnet_model.py:143] round_filter input=32 output=32\n",
      "I0529 21:30:16.252702  6708 efficientnet_model.py:143] round_filter input=32 output=32\n",
      "I0529 21:30:16.254212  6708 efficientnet_model.py:143] round_filter input=16 output=16\n",
      "I0529 21:30:16.468900  6708 efficientnet_model.py:143] round_filter input=16 output=16\n",
      "I0529 21:30:16.469901  6708 efficientnet_model.py:143] round_filter input=24 output=24\n",
      "I0529 21:30:16.939491  6708 efficientnet_model.py:143] round_filter input=24 output=24\n",
      "I0529 21:30:16.940493  6708 efficientnet_model.py:143] round_filter input=40 output=40\n",
      "I0529 21:30:17.550347  6708 efficientnet_model.py:143] round_filter input=40 output=40\n",
      "I0529 21:30:17.550347  6708 efficientnet_model.py:143] round_filter input=80 output=80\n",
      "I0529 21:30:18.366278  6708 efficientnet_model.py:143] round_filter input=80 output=80\n",
      "I0529 21:30:18.366278  6708 efficientnet_model.py:143] round_filter input=112 output=112\n",
      "I0529 21:30:19.174022  6708 efficientnet_model.py:143] round_filter input=112 output=112\n",
      "I0529 21:30:19.174022  6708 efficientnet_model.py:143] round_filter input=192 output=192\n",
      "I0529 21:30:19.672512  6708 efficientnet_model.py:143] round_filter input=192 output=192\n",
      "I0529 21:30:19.673550  6708 efficientnet_model.py:143] round_filter input=320 output=320\n",
      "I0529 21:30:19.781172  6708 efficientnet_model.py:143] round_filter input=1280 output=1280\n",
      "I0529 21:30:19.834947  6708 efficientnet_model.py:453] Building model efficientnet with params ModelConfig(width_coefficient=1.0, depth_coefficient=1.0, resolution=224, dropout_rate=0.2, blocks=(BlockConfig(input_filters=32, output_filters=16, kernel_size=3, num_repeat=1, expand_ratio=1, strides=(1, 1), se_ratio=0.25, id_skip=True, fused_conv=False, conv_type='depthwise'), BlockConfig(input_filters=16, output_filters=24, kernel_size=3, num_repeat=2, expand_ratio=6, strides=(2, 2), se_ratio=0.25, id_skip=True, fused_conv=False, conv_type='depthwise'), BlockConfig(input_filters=24, output_filters=40, kernel_size=5, num_repeat=2, expand_ratio=6, strides=(2, 2), se_ratio=0.25, id_skip=True, fused_conv=False, conv_type='depthwise'), BlockConfig(input_filters=40, output_filters=80, kernel_size=3, num_repeat=3, expand_ratio=6, strides=(2, 2), se_ratio=0.25, id_skip=True, fused_conv=False, conv_type='depthwise'), BlockConfig(input_filters=80, output_filters=112, kernel_size=5, num_repeat=3, expand_ratio=6, strides=(1, 1), se_ratio=0.25, id_skip=True, fused_conv=False, conv_type='depthwise'), BlockConfig(input_filters=112, output_filters=192, kernel_size=5, num_repeat=4, expand_ratio=6, strides=(2, 2), se_ratio=0.25, id_skip=True, fused_conv=False, conv_type='depthwise'), BlockConfig(input_filters=192, output_filters=320, kernel_size=3, num_repeat=1, expand_ratio=6, strides=(1, 1), se_ratio=0.25, id_skip=True, fused_conv=False, conv_type='depthwise')), stem_base_filters=32, top_base_filters=1280, activation='simple_swish', batch_norm='default', bn_momentum=0.99, bn_epsilon=0.001, weight_decay=5e-06, drop_connect_rate=0.2, depth_divisor=8, min_depth=None, use_se=True, input_channels=3, num_classes=1000, model_name='efficientnet', rescale_input=False, data_format='channels_last', dtype='float32')\n",
      "I0529 21:30:19.878071  6708 ssd_efficientnet_bifpn_feature_extractor.py:161] EfficientDet EfficientNet backbone version: efficientnet-b1\n",
      "I0529 21:30:19.878071  6708 ssd_efficientnet_bifpn_feature_extractor.py:163] EfficientDet BiFPN num filters: 88\n",
      "I0529 21:30:19.878071  6708 ssd_efficientnet_bifpn_feature_extractor.py:164] EfficientDet BiFPN num iterations: 4\n",
      "I0529 21:30:19.879061  6708 efficientnet_model.py:143] round_filter input=32 output=32\n",
      "I0529 21:30:19.895753  6708 efficientnet_model.py:143] round_filter input=32 output=32\n",
      "I0529 21:30:19.895753  6708 efficientnet_model.py:143] round_filter input=16 output=16\n",
      "I0529 21:30:20.230432  6708 efficientnet_model.py:143] round_filter input=16 output=16\n",
      "I0529 21:30:20.230432  6708 efficientnet_model.py:143] round_filter input=24 output=24\n",
      "I0529 21:30:20.601143  6708 efficientnet_model.py:143] round_filter input=24 output=24\n",
      "I0529 21:30:20.601143  6708 efficientnet_model.py:143] round_filter input=40 output=40\n",
      "I0529 21:30:20.925650  6708 efficientnet_model.py:143] round_filter input=40 output=40\n",
      "I0529 21:30:20.925650  6708 efficientnet_model.py:143] round_filter input=80 output=80\n",
      "I0529 21:30:21.554134  6708 efficientnet_model.py:143] round_filter input=80 output=80\n",
      "I0529 21:30:21.554134  6708 efficientnet_model.py:143] round_filter input=112 output=112\n",
      "I0529 21:30:21.957546  6708 efficientnet_model.py:143] round_filter input=112 output=112\n",
      "I0529 21:30:21.957546  6708 efficientnet_model.py:143] round_filter input=192 output=192\n",
      "I0529 21:30:22.443987  6708 efficientnet_model.py:143] round_filter input=192 output=192\n",
      "I0529 21:30:22.443987  6708 efficientnet_model.py:143] round_filter input=320 output=320\n",
      "I0529 21:30:22.754075  6708 efficientnet_model.py:143] round_filter input=1280 output=1280\n",
      "I0529 21:30:22.792122  6708 efficientnet_model.py:453] Building model efficientnet with params ModelConfig(width_coefficient=1.0, depth_coefficient=1.1, resolution=240, dropout_rate=0.2, blocks=(BlockConfig(input_filters=32, output_filters=16, kernel_size=3, num_repeat=1, expand_ratio=1, strides=(1, 1), se_ratio=0.25, id_skip=True, fused_conv=False, conv_type='depthwise'), BlockConfig(input_filters=16, output_filters=24, kernel_size=3, num_repeat=2, expand_ratio=6, strides=(2, 2), se_ratio=0.25, id_skip=True, fused_conv=False, conv_type='depthwise'), BlockConfig(input_filters=24, output_filters=40, kernel_size=5, num_repeat=2, expand_ratio=6, strides=(2, 2), se_ratio=0.25, id_skip=True, fused_conv=False, conv_type='depthwise'), BlockConfig(input_filters=40, output_filters=80, kernel_size=3, num_repeat=3, expand_ratio=6, strides=(2, 2), se_ratio=0.25, id_skip=True, fused_conv=False, conv_type='depthwise'), BlockConfig(input_filters=80, output_filters=112, kernel_size=5, num_repeat=3, expand_ratio=6, strides=(1, 1), se_ratio=0.25, id_skip=True, fused_conv=False, conv_type='depthwise'), BlockConfig(input_filters=112, output_filters=192, kernel_size=5, num_repeat=4, expand_ratio=6, strides=(2, 2), se_ratio=0.25, id_skip=True, fused_conv=False, conv_type='depthwise'), BlockConfig(input_filters=192, output_filters=320, kernel_size=3, num_repeat=1, expand_ratio=6, strides=(1, 1), se_ratio=0.25, id_skip=True, fused_conv=False, conv_type='depthwise')), stem_base_filters=32, top_base_filters=1280, activation='simple_swish', batch_norm='default', bn_momentum=0.99, bn_epsilon=0.001, weight_decay=5e-06, drop_connect_rate=0.2, depth_divisor=8, min_depth=None, use_se=True, input_channels=3, num_classes=1000, model_name='efficientnet', rescale_input=False, data_format='channels_last', dtype='float32')\n",
      "I0529 21:30:22.835725  6708 ssd_efficientnet_bifpn_feature_extractor.py:161] EfficientDet EfficientNet backbone version: efficientnet-b2\n",
      "I0529 21:30:22.835725  6708 ssd_efficientnet_bifpn_feature_extractor.py:163] EfficientDet BiFPN num filters: 112\n",
      "I0529 21:30:22.835725  6708 ssd_efficientnet_bifpn_feature_extractor.py:164] EfficientDet BiFPN num iterations: 5\n",
      "I0529 21:30:22.836334  6708 efficientnet_model.py:143] round_filter input=32 output=32\n",
      "I0529 21:30:22.852060  6708 efficientnet_model.py:143] round_filter input=32 output=32\n",
      "I0529 21:30:22.852060  6708 efficientnet_model.py:143] round_filter input=16 output=16\n",
      "I0529 21:30:22.979934  6708 efficientnet_model.py:143] round_filter input=16 output=16\n",
      "I0529 21:30:22.979934  6708 efficientnet_model.py:143] round_filter input=24 output=24\n",
      "I0529 21:30:23.256120  6708 efficientnet_model.py:143] round_filter input=24 output=24\n",
      "I0529 21:30:23.256120  6708 efficientnet_model.py:143] round_filter input=40 output=48\n",
      "I0529 21:30:23.573496  6708 efficientnet_model.py:143] round_filter input=40 output=48\n",
      "I0529 21:30:23.573496  6708 efficientnet_model.py:143] round_filter input=80 output=88\n",
      "I0529 21:30:24.050550  6708 efficientnet_model.py:143] round_filter input=80 output=88\n",
      "I0529 21:30:24.050550  6708 efficientnet_model.py:143] round_filter input=112 output=120\n",
      "I0529 21:30:24.649839  6708 efficientnet_model.py:143] round_filter input=112 output=120\n",
      "I0529 21:30:24.649839  6708 efficientnet_model.py:143] round_filter input=192 output=208\n",
      "I0529 21:30:25.195844  6708 efficientnet_model.py:143] round_filter input=192 output=208\n",
      "I0529 21:30:25.195844  6708 efficientnet_model.py:143] round_filter input=320 output=352\n",
      "I0529 21:30:25.444589  6708 efficientnet_model.py:143] round_filter input=1280 output=1408\n",
      "I0529 21:30:25.496376  6708 efficientnet_model.py:453] Building model efficientnet with params ModelConfig(width_coefficient=1.1, depth_coefficient=1.2, resolution=260, dropout_rate=0.3, blocks=(BlockConfig(input_filters=32, output_filters=16, kernel_size=3, num_repeat=1, expand_ratio=1, strides=(1, 1), se_ratio=0.25, id_skip=True, fused_conv=False, conv_type='depthwise'), BlockConfig(input_filters=16, output_filters=24, kernel_size=3, num_repeat=2, expand_ratio=6, strides=(2, 2), se_ratio=0.25, id_skip=True, fused_conv=False, conv_type='depthwise'), BlockConfig(input_filters=24, output_filters=40, kernel_size=5, num_repeat=2, expand_ratio=6, strides=(2, 2), se_ratio=0.25, id_skip=True, fused_conv=False, conv_type='depthwise'), BlockConfig(input_filters=40, output_filters=80, kernel_size=3, num_repeat=3, expand_ratio=6, strides=(2, 2), se_ratio=0.25, id_skip=True, fused_conv=False, conv_type='depthwise'), BlockConfig(input_filters=80, output_filters=112, kernel_size=5, num_repeat=3, expand_ratio=6, strides=(1, 1), se_ratio=0.25, id_skip=True, fused_conv=False, conv_type='depthwise'), BlockConfig(input_filters=112, output_filters=192, kernel_size=5, num_repeat=4, expand_ratio=6, strides=(2, 2), se_ratio=0.25, id_skip=True, fused_conv=False, conv_type='depthwise'), BlockConfig(input_filters=192, output_filters=320, kernel_size=3, num_repeat=1, expand_ratio=6, strides=(1, 1), se_ratio=0.25, id_skip=True, fused_conv=False, conv_type='depthwise')), stem_base_filters=32, top_base_filters=1280, activation='simple_swish', batch_norm='default', bn_momentum=0.99, bn_epsilon=0.001, weight_decay=5e-06, drop_connect_rate=0.2, depth_divisor=8, min_depth=None, use_se=True, input_channels=3, num_classes=1000, model_name='efficientnet', rescale_input=False, data_format='channels_last', dtype='float32')\n",
      "I0529 21:30:25.534892  6708 ssd_efficientnet_bifpn_feature_extractor.py:161] EfficientDet EfficientNet backbone version: efficientnet-b3\n",
      "I0529 21:30:25.534892  6708 ssd_efficientnet_bifpn_feature_extractor.py:163] EfficientDet BiFPN num filters: 160\n",
      "I0529 21:30:25.534892  6708 ssd_efficientnet_bifpn_feature_extractor.py:164] EfficientDet BiFPN num iterations: 6\n",
      "I0529 21:30:25.535799  6708 efficientnet_model.py:143] round_filter input=32 output=40\n",
      "I0529 21:30:25.557830  6708 efficientnet_model.py:143] round_filter input=32 output=40\n",
      "I0529 21:30:25.557830  6708 efficientnet_model.py:143] round_filter input=16 output=24\n",
      "I0529 21:30:25.724935  6708 efficientnet_model.py:143] round_filter input=16 output=24\n",
      "I0529 21:30:25.724935  6708 efficientnet_model.py:143] round_filter input=24 output=32\n",
      "I0529 21:30:26.022059  6708 efficientnet_model.py:143] round_filter input=24 output=32\n",
      "I0529 21:30:26.022059  6708 efficientnet_model.py:143] round_filter input=40 output=48\n",
      "I0529 21:30:26.267290  6708 efficientnet_model.py:143] round_filter input=40 output=48\n",
      "I0529 21:30:26.267290  6708 efficientnet_model.py:143] round_filter input=80 output=96\n",
      "I0529 21:30:26.830122  6708 efficientnet_model.py:143] round_filter input=80 output=96\n",
      "I0529 21:30:26.831132  6708 efficientnet_model.py:143] round_filter input=112 output=136\n",
      "I0529 21:30:27.370909  6708 efficientnet_model.py:143] round_filter input=112 output=136\n",
      "I0529 21:30:27.370909  6708 efficientnet_model.py:143] round_filter input=192 output=232\n",
      "I0529 21:30:28.022429  6708 efficientnet_model.py:143] round_filter input=192 output=232\n",
      "I0529 21:30:28.022429  6708 efficientnet_model.py:143] round_filter input=320 output=384\n",
      "I0529 21:30:28.253151  6708 efficientnet_model.py:143] round_filter input=1280 output=1536\n",
      "I0529 21:30:28.305944  6708 efficientnet_model.py:453] Building model efficientnet with params ModelConfig(width_coefficient=1.2, depth_coefficient=1.4, resolution=300, dropout_rate=0.3, blocks=(BlockConfig(input_filters=32, output_filters=16, kernel_size=3, num_repeat=1, expand_ratio=1, strides=(1, 1), se_ratio=0.25, id_skip=True, fused_conv=False, conv_type='depthwise'), BlockConfig(input_filters=16, output_filters=24, kernel_size=3, num_repeat=2, expand_ratio=6, strides=(2, 2), se_ratio=0.25, id_skip=True, fused_conv=False, conv_type='depthwise'), BlockConfig(input_filters=24, output_filters=40, kernel_size=5, num_repeat=2, expand_ratio=6, strides=(2, 2), se_ratio=0.25, id_skip=True, fused_conv=False, conv_type='depthwise'), BlockConfig(input_filters=40, output_filters=80, kernel_size=3, num_repeat=3, expand_ratio=6, strides=(2, 2), se_ratio=0.25, id_skip=True, fused_conv=False, conv_type='depthwise'), BlockConfig(input_filters=80, output_filters=112, kernel_size=5, num_repeat=3, expand_ratio=6, strides=(1, 1), se_ratio=0.25, id_skip=True, fused_conv=False, conv_type='depthwise'), BlockConfig(input_filters=112, output_filters=192, kernel_size=5, num_repeat=4, expand_ratio=6, strides=(2, 2), se_ratio=0.25, id_skip=True, fused_conv=False, conv_type='depthwise'), BlockConfig(input_filters=192, output_filters=320, kernel_size=3, num_repeat=1, expand_ratio=6, strides=(1, 1), se_ratio=0.25, id_skip=True, fused_conv=False, conv_type='depthwise')), stem_base_filters=32, top_base_filters=1280, activation='simple_swish', batch_norm='default', bn_momentum=0.99, bn_epsilon=0.001, weight_decay=5e-06, drop_connect_rate=0.2, depth_divisor=8, min_depth=None, use_se=True, input_channels=3, num_classes=1000, model_name='efficientnet', rescale_input=False, data_format='channels_last', dtype='float32')\n",
      "I0529 21:30:28.356817  6708 ssd_efficientnet_bifpn_feature_extractor.py:161] EfficientDet EfficientNet backbone version: efficientnet-b4\n",
      "I0529 21:30:28.356817  6708 ssd_efficientnet_bifpn_feature_extractor.py:163] EfficientDet BiFPN num filters: 224\n",
      "I0529 21:30:28.356817  6708 ssd_efficientnet_bifpn_feature_extractor.py:164] EfficientDet BiFPN num iterations: 7\n",
      "I0529 21:30:28.357807  6708 efficientnet_model.py:143] round_filter input=32 output=48\n",
      "I0529 21:30:28.379986  6708 efficientnet_model.py:143] round_filter input=32 output=48\n",
      "I0529 21:30:28.379986  6708 efficientnet_model.py:143] round_filter input=16 output=24\n",
      "I0529 21:30:28.709379  6708 efficientnet_model.py:143] round_filter input=16 output=24\n",
      "I0529 21:30:28.709379  6708 efficientnet_model.py:143] round_filter input=24 output=32\n",
      "I0529 21:30:29.033102  6708 efficientnet_model.py:143] round_filter input=24 output=32\n",
      "I0529 21:30:29.033102  6708 efficientnet_model.py:143] round_filter input=40 output=56\n",
      "I0529 21:30:29.980459  6708 efficientnet_model.py:143] round_filter input=40 output=56\n",
      "I0529 21:30:29.981458  6708 efficientnet_model.py:143] round_filter input=80 output=112\n",
      "I0529 21:30:31.643869  6708 efficientnet_model.py:143] round_filter input=80 output=112\n",
      "I0529 21:30:31.643869  6708 efficientnet_model.py:143] round_filter input=112 output=160\n",
      "I0529 21:30:33.252899  6708 efficientnet_model.py:143] round_filter input=112 output=160\n",
      "I0529 21:30:33.252899  6708 efficientnet_model.py:143] round_filter input=192 output=272\n",
      "I0529 21:30:36.093995  6708 efficientnet_model.py:143] round_filter input=192 output=272\n",
      "I0529 21:30:36.093995  6708 efficientnet_model.py:143] round_filter input=320 output=448\n",
      "I0529 21:30:36.841625  6708 efficientnet_model.py:143] round_filter input=1280 output=1792\n",
      "I0529 21:30:36.961546  6708 efficientnet_model.py:453] Building model efficientnet with params ModelConfig(width_coefficient=1.4, depth_coefficient=1.8, resolution=380, dropout_rate=0.4, blocks=(BlockConfig(input_filters=32, output_filters=16, kernel_size=3, num_repeat=1, expand_ratio=1, strides=(1, 1), se_ratio=0.25, id_skip=True, fused_conv=False, conv_type='depthwise'), BlockConfig(input_filters=16, output_filters=24, kernel_size=3, num_repeat=2, expand_ratio=6, strides=(2, 2), se_ratio=0.25, id_skip=True, fused_conv=False, conv_type='depthwise'), BlockConfig(input_filters=24, output_filters=40, kernel_size=5, num_repeat=2, expand_ratio=6, strides=(2, 2), se_ratio=0.25, id_skip=True, fused_conv=False, conv_type='depthwise'), BlockConfig(input_filters=40, output_filters=80, kernel_size=3, num_repeat=3, expand_ratio=6, strides=(2, 2), se_ratio=0.25, id_skip=True, fused_conv=False, conv_type='depthwise'), BlockConfig(input_filters=80, output_filters=112, kernel_size=5, num_repeat=3, expand_ratio=6, strides=(1, 1), se_ratio=0.25, id_skip=True, fused_conv=False, conv_type='depthwise'), BlockConfig(input_filters=112, output_filters=192, kernel_size=5, num_repeat=4, expand_ratio=6, strides=(2, 2), se_ratio=0.25, id_skip=True, fused_conv=False, conv_type='depthwise'), BlockConfig(input_filters=192, output_filters=320, kernel_size=3, num_repeat=1, expand_ratio=6, strides=(1, 1), se_ratio=0.25, id_skip=True, fused_conv=False, conv_type='depthwise')), stem_base_filters=32, top_base_filters=1280, activation='simple_swish', batch_norm='default', bn_momentum=0.99, bn_epsilon=0.001, weight_decay=5e-06, drop_connect_rate=0.2, depth_divisor=8, min_depth=None, use_se=True, input_channels=3, num_classes=1000, model_name='efficientnet', rescale_input=False, data_format='channels_last', dtype='float32')\n",
      "I0529 21:30:37.118458  6708 ssd_efficientnet_bifpn_feature_extractor.py:161] EfficientDet EfficientNet backbone version: efficientnet-b5\n",
      "I0529 21:30:37.118458  6708 ssd_efficientnet_bifpn_feature_extractor.py:163] EfficientDet BiFPN num filters: 288\n",
      "I0529 21:30:37.118458  6708 ssd_efficientnet_bifpn_feature_extractor.py:164] EfficientDet BiFPN num iterations: 7\n",
      "I0529 21:30:37.120645  6708 efficientnet_model.py:143] round_filter input=32 output=48\n",
      "I0529 21:30:37.152058  6708 efficientnet_model.py:143] round_filter input=32 output=48\n",
      "I0529 21:30:37.152058  6708 efficientnet_model.py:143] round_filter input=16 output=24\n",
      "I0529 21:30:37.739695  6708 efficientnet_model.py:143] round_filter input=16 output=24\n",
      "I0529 21:30:37.739886  6708 efficientnet_model.py:143] round_filter input=24 output=40\n",
      "I0529 21:30:38.941059  6708 efficientnet_model.py:143] round_filter input=24 output=40\n",
      "I0529 21:30:38.941059  6708 efficientnet_model.py:143] round_filter input=40 output=64\n",
      "I0529 21:30:39.516895  6708 efficientnet_model.py:143] round_filter input=40 output=64\n",
      "I0529 21:30:39.516895  6708 efficientnet_model.py:143] round_filter input=80 output=128\n",
      "I0529 21:30:40.914669  6708 efficientnet_model.py:143] round_filter input=80 output=128\n",
      "I0529 21:30:40.914669  6708 efficientnet_model.py:143] round_filter input=112 output=176\n",
      "I0529 21:30:41.644938  6708 efficientnet_model.py:143] round_filter input=112 output=176\n",
      "I0529 21:30:41.644938  6708 efficientnet_model.py:143] round_filter input=192 output=304\n",
      "I0529 21:30:42.644174  6708 efficientnet_model.py:143] round_filter input=192 output=304\n",
      "I0529 21:30:42.644174  6708 efficientnet_model.py:143] round_filter input=320 output=512\n",
      "I0529 21:30:42.991161  6708 efficientnet_model.py:143] round_filter input=1280 output=2048\n",
      "I0529 21:30:43.085841  6708 efficientnet_model.py:453] Building model efficientnet with params ModelConfig(width_coefficient=1.6, depth_coefficient=2.2, resolution=456, dropout_rate=0.4, blocks=(BlockConfig(input_filters=32, output_filters=16, kernel_size=3, num_repeat=1, expand_ratio=1, strides=(1, 1), se_ratio=0.25, id_skip=True, fused_conv=False, conv_type='depthwise'), BlockConfig(input_filters=16, output_filters=24, kernel_size=3, num_repeat=2, expand_ratio=6, strides=(2, 2), se_ratio=0.25, id_skip=True, fused_conv=False, conv_type='depthwise'), BlockConfig(input_filters=24, output_filters=40, kernel_size=5, num_repeat=2, expand_ratio=6, strides=(2, 2), se_ratio=0.25, id_skip=True, fused_conv=False, conv_type='depthwise'), BlockConfig(input_filters=40, output_filters=80, kernel_size=3, num_repeat=3, expand_ratio=6, strides=(2, 2), se_ratio=0.25, id_skip=True, fused_conv=False, conv_type='depthwise'), BlockConfig(input_filters=80, output_filters=112, kernel_size=5, num_repeat=3, expand_ratio=6, strides=(1, 1), se_ratio=0.25, id_skip=True, fused_conv=False, conv_type='depthwise'), BlockConfig(input_filters=112, output_filters=192, kernel_size=5, num_repeat=4, expand_ratio=6, strides=(2, 2), se_ratio=0.25, id_skip=True, fused_conv=False, conv_type='depthwise'), BlockConfig(input_filters=192, output_filters=320, kernel_size=3, num_repeat=1, expand_ratio=6, strides=(1, 1), se_ratio=0.25, id_skip=True, fused_conv=False, conv_type='depthwise')), stem_base_filters=32, top_base_filters=1280, activation='simple_swish', batch_norm='default', bn_momentum=0.99, bn_epsilon=0.001, weight_decay=5e-06, drop_connect_rate=0.2, depth_divisor=8, min_depth=None, use_se=True, input_channels=3, num_classes=1000, model_name='efficientnet', rescale_input=False, data_format='channels_last', dtype='float32')\n",
      "I0529 21:30:43.231527  6708 ssd_efficientnet_bifpn_feature_extractor.py:161] EfficientDet EfficientNet backbone version: efficientnet-b6\n",
      "I0529 21:30:43.231527  6708 ssd_efficientnet_bifpn_feature_extractor.py:163] EfficientDet BiFPN num filters: 384\n",
      "I0529 21:30:43.231527  6708 ssd_efficientnet_bifpn_feature_extractor.py:164] EfficientDet BiFPN num iterations: 8\n",
      "I0529 21:30:43.234001  6708 efficientnet_model.py:143] round_filter input=32 output=56\n",
      "I0529 21:30:43.263191  6708 efficientnet_model.py:143] round_filter input=32 output=56\n",
      "I0529 21:30:43.263191  6708 efficientnet_model.py:143] round_filter input=16 output=32\n",
      "I0529 21:30:43.527435  6708 efficientnet_model.py:143] round_filter input=16 output=32\n",
      "I0529 21:30:43.527435  6708 efficientnet_model.py:143] round_filter input=24 output=40\n",
      "I0529 21:30:44.433452  6708 efficientnet_model.py:143] round_filter input=24 output=40\n",
      "I0529 21:30:44.433452  6708 efficientnet_model.py:143] round_filter input=40 output=72\n",
      "I0529 21:30:45.485629  6708 efficientnet_model.py:143] round_filter input=40 output=72\n",
      "I0529 21:30:45.485629  6708 efficientnet_model.py:143] round_filter input=80 output=144\n",
      "I0529 21:30:46.461490  6708 efficientnet_model.py:143] round_filter input=80 output=144\n",
      "I0529 21:30:46.461490  6708 efficientnet_model.py:143] round_filter input=112 output=200\n",
      "I0529 21:30:47.295519  6708 efficientnet_model.py:143] round_filter input=112 output=200\n",
      "I0529 21:30:47.295519  6708 efficientnet_model.py:143] round_filter input=192 output=344\n",
      "I0529 21:30:48.687090  6708 efficientnet_model.py:143] round_filter input=192 output=344\n",
      "I0529 21:30:48.687090  6708 efficientnet_model.py:143] round_filter input=320 output=576\n",
      "I0529 21:30:49.028964  6708 efficientnet_model.py:143] round_filter input=1280 output=2304\n",
      "I0529 21:30:49.077247  6708 efficientnet_model.py:453] Building model efficientnet with params ModelConfig(width_coefficient=1.8, depth_coefficient=2.6, resolution=528, dropout_rate=0.5, blocks=(BlockConfig(input_filters=32, output_filters=16, kernel_size=3, num_repeat=1, expand_ratio=1, strides=(1, 1), se_ratio=0.25, id_skip=True, fused_conv=False, conv_type='depthwise'), BlockConfig(input_filters=16, output_filters=24, kernel_size=3, num_repeat=2, expand_ratio=6, strides=(2, 2), se_ratio=0.25, id_skip=True, fused_conv=False, conv_type='depthwise'), BlockConfig(input_filters=24, output_filters=40, kernel_size=5, num_repeat=2, expand_ratio=6, strides=(2, 2), se_ratio=0.25, id_skip=True, fused_conv=False, conv_type='depthwise'), BlockConfig(input_filters=40, output_filters=80, kernel_size=3, num_repeat=3, expand_ratio=6, strides=(2, 2), se_ratio=0.25, id_skip=True, fused_conv=False, conv_type='depthwise'), BlockConfig(input_filters=80, output_filters=112, kernel_size=5, num_repeat=3, expand_ratio=6, strides=(1, 1), se_ratio=0.25, id_skip=True, fused_conv=False, conv_type='depthwise'), BlockConfig(input_filters=112, output_filters=192, kernel_size=5, num_repeat=4, expand_ratio=6, strides=(2, 2), se_ratio=0.25, id_skip=True, fused_conv=False, conv_type='depthwise'), BlockConfig(input_filters=192, output_filters=320, kernel_size=3, num_repeat=1, expand_ratio=6, strides=(1, 1), se_ratio=0.25, id_skip=True, fused_conv=False, conv_type='depthwise')), stem_base_filters=32, top_base_filters=1280, activation='simple_swish', batch_norm='default', bn_momentum=0.99, bn_epsilon=0.001, weight_decay=5e-06, drop_connect_rate=0.2, depth_divisor=8, min_depth=None, use_se=True, input_channels=3, num_classes=1000, model_name='efficientnet', rescale_input=False, data_format='channels_last', dtype='float32')\n",
      "I0529 21:30:49.146367  6708 ssd_efficientnet_bifpn_feature_extractor.py:161] EfficientDet EfficientNet backbone version: efficientnet-b7\n",
      "I0529 21:30:49.146367  6708 ssd_efficientnet_bifpn_feature_extractor.py:163] EfficientDet BiFPN num filters: 384\n",
      "I0529 21:30:49.146367  6708 ssd_efficientnet_bifpn_feature_extractor.py:164] EfficientDet BiFPN num iterations: 8\n",
      "I0529 21:30:49.147371  6708 efficientnet_model.py:143] round_filter input=32 output=64\n",
      "I0529 21:30:49.169903  6708 efficientnet_model.py:143] round_filter input=32 output=64\n",
      "I0529 21:30:49.169903  6708 efficientnet_model.py:143] round_filter input=16 output=32\n",
      "I0529 21:30:49.404907  6708 efficientnet_model.py:143] round_filter input=16 output=32\n",
      "I0529 21:30:49.404907  6708 efficientnet_model.py:143] round_filter input=24 output=48\n",
      "I0529 21:30:49.994886  6708 efficientnet_model.py:143] round_filter input=24 output=48\n",
      "I0529 21:30:49.994886  6708 efficientnet_model.py:143] round_filter input=40 output=80\n",
      "I0529 21:30:50.621419  6708 efficientnet_model.py:143] round_filter input=40 output=80\n",
      "I0529 21:30:50.621419  6708 efficientnet_model.py:143] round_filter input=80 output=160\n",
      "I0529 21:30:51.553613  6708 efficientnet_model.py:143] round_filter input=80 output=160\n",
      "I0529 21:30:51.553613  6708 efficientnet_model.py:143] round_filter input=112 output=224\n",
      "I0529 21:30:52.892111  6708 efficientnet_model.py:143] round_filter input=112 output=224\n",
      "I0529 21:30:52.892111  6708 efficientnet_model.py:143] round_filter input=192 output=384\n",
      "I0529 21:30:55.106610  6708 efficientnet_model.py:143] round_filter input=192 output=384\n",
      "I0529 21:30:55.106753  6708 efficientnet_model.py:143] round_filter input=320 output=640\n",
      "I0529 21:30:55.788634  6708 efficientnet_model.py:143] round_filter input=1280 output=2560\n",
      "I0529 21:30:55.867718  6708 efficientnet_model.py:453] Building model efficientnet with params ModelConfig(width_coefficient=2.0, depth_coefficient=3.1, resolution=600, dropout_rate=0.5, blocks=(BlockConfig(input_filters=32, output_filters=16, kernel_size=3, num_repeat=1, expand_ratio=1, strides=(1, 1), se_ratio=0.25, id_skip=True, fused_conv=False, conv_type='depthwise'), BlockConfig(input_filters=16, output_filters=24, kernel_size=3, num_repeat=2, expand_ratio=6, strides=(2, 2), se_ratio=0.25, id_skip=True, fused_conv=False, conv_type='depthwise'), BlockConfig(input_filters=24, output_filters=40, kernel_size=5, num_repeat=2, expand_ratio=6, strides=(2, 2), se_ratio=0.25, id_skip=True, fused_conv=False, conv_type='depthwise'), BlockConfig(input_filters=40, output_filters=80, kernel_size=3, num_repeat=3, expand_ratio=6, strides=(2, 2), se_ratio=0.25, id_skip=True, fused_conv=False, conv_type='depthwise'), BlockConfig(input_filters=80, output_filters=112, kernel_size=5, num_repeat=3, expand_ratio=6, strides=(1, 1), se_ratio=0.25, id_skip=True, fused_conv=False, conv_type='depthwise'), BlockConfig(input_filters=112, output_filters=192, kernel_size=5, num_repeat=4, expand_ratio=6, strides=(2, 2), se_ratio=0.25, id_skip=True, fused_conv=False, conv_type='depthwise'), BlockConfig(input_filters=192, output_filters=320, kernel_size=3, num_repeat=1, expand_ratio=6, strides=(1, 1), se_ratio=0.25, id_skip=True, fused_conv=False, conv_type='depthwise')), stem_base_filters=32, top_base_filters=1280, activation='simple_swish', batch_norm='default', bn_momentum=0.99, bn_epsilon=0.001, weight_decay=5e-06, drop_connect_rate=0.2, depth_divisor=8, min_depth=None, use_se=True, input_channels=3, num_classes=1000, model_name='efficientnet', rescale_input=False, data_format='channels_last', dtype='float32')\n",
      "INFO:tensorflow:time(__main__.ModelBuilderTF2Test.test_create_ssd_models_from_config): 40.22s\n",
      "I0529 21:30:55.963787  6708 test_util.py:2574] time(__main__.ModelBuilderTF2Test.test_create_ssd_models_from_config): 40.22s\n",
      "[       OK ] ModelBuilderTF2Test.test_create_ssd_models_from_config\n",
      "[ RUN      ] ModelBuilderTF2Test.test_invalid_faster_rcnn_batchnorm_update\n",
      "INFO:tensorflow:time(__main__.ModelBuilderTF2Test.test_invalid_faster_rcnn_batchnorm_update): 0.0s\n",
      "I0529 21:30:56.074454  6708 test_util.py:2574] time(__main__.ModelBuilderTF2Test.test_invalid_faster_rcnn_batchnorm_update): 0.0s\n",
      "[       OK ] ModelBuilderTF2Test.test_invalid_faster_rcnn_batchnorm_update\n",
      "[ RUN      ] ModelBuilderTF2Test.test_invalid_first_stage_nms_iou_threshold\n",
      "INFO:tensorflow:time(__main__.ModelBuilderTF2Test.test_invalid_first_stage_nms_iou_threshold): 0.0s\n",
      "I0529 21:30:56.075492  6708 test_util.py:2574] time(__main__.ModelBuilderTF2Test.test_invalid_first_stage_nms_iou_threshold): 0.0s\n",
      "[       OK ] ModelBuilderTF2Test.test_invalid_first_stage_nms_iou_threshold\n",
      "[ RUN      ] ModelBuilderTF2Test.test_invalid_model_config_proto\n",
      "INFO:tensorflow:time(__main__.ModelBuilderTF2Test.test_invalid_model_config_proto): 0.0s\n",
      "I0529 21:30:56.075492  6708 test_util.py:2574] time(__main__.ModelBuilderTF2Test.test_invalid_model_config_proto): 0.0s\n",
      "[       OK ] ModelBuilderTF2Test.test_invalid_model_config_proto\n",
      "[ RUN      ] ModelBuilderTF2Test.test_invalid_second_stage_batch_size\n",
      "INFO:tensorflow:time(__main__.ModelBuilderTF2Test.test_invalid_second_stage_batch_size): 0.0s\n",
      "I0529 21:30:56.076492  6708 test_util.py:2574] time(__main__.ModelBuilderTF2Test.test_invalid_second_stage_batch_size): 0.0s\n",
      "[       OK ] ModelBuilderTF2Test.test_invalid_second_stage_batch_size\n",
      "[ RUN      ] ModelBuilderTF2Test.test_session\n",
      "[  SKIPPED ] ModelBuilderTF2Test.test_session\n",
      "[ RUN      ] ModelBuilderTF2Test.test_unknown_faster_rcnn_feature_extractor\n",
      "INFO:tensorflow:time(__main__.ModelBuilderTF2Test.test_unknown_faster_rcnn_feature_extractor): 0.0s\n",
      "I0529 21:30:56.076492  6708 test_util.py:2574] time(__main__.ModelBuilderTF2Test.test_unknown_faster_rcnn_feature_extractor): 0.0s\n",
      "[       OK ] ModelBuilderTF2Test.test_unknown_faster_rcnn_feature_extractor\n",
      "[ RUN      ] ModelBuilderTF2Test.test_unknown_meta_architecture\n",
      "INFO:tensorflow:time(__main__.ModelBuilderTF2Test.test_unknown_meta_architecture): 0.0s\n",
      "I0529 21:30:56.077461  6708 test_util.py:2574] time(__main__.ModelBuilderTF2Test.test_unknown_meta_architecture): 0.0s\n",
      "[       OK ] ModelBuilderTF2Test.test_unknown_meta_architecture\n",
      "[ RUN      ] ModelBuilderTF2Test.test_unknown_ssd_feature_extractor\n",
      "INFO:tensorflow:time(__main__.ModelBuilderTF2Test.test_unknown_ssd_feature_extractor): 0.0s\n",
      "I0529 21:30:56.077461  6708 test_util.py:2574] time(__main__.ModelBuilderTF2Test.test_unknown_ssd_feature_extractor): 0.0s\n",
      "[       OK ] ModelBuilderTF2Test.test_unknown_ssd_feature_extractor\n",
      "----------------------------------------------------------------------\n",
      "Ran 24 tests in 51.290s\n",
      "\n",
      "OK (skipped=1)\n"
     ]
    }
   ],
   "source": [
    "VERIFICATION_SCRIPT = os.path.join(paths['APIMODEL_PATH'], 'research', 'object_detection', 'builders', 'model_builder_tf2_test.py')\n",
    "# Verify Installation\n",
    "!python {VERIFICATION_SCRIPT}"
   ]
  },
  {
   "cell_type": "code",
   "execution_count": 16,
   "metadata": {
    "executionInfo": {
     "elapsed": 333,
     "status": "ok",
     "timestamp": 1713146122172,
     "user": {
      "displayName": "Nhật Minh Lâm",
      "userId": "04323035584587404867"
     },
     "user_tz": -420
    },
    "id": "dNb4vXgr6CDL"
   },
   "outputs": [],
   "source": [
    "import object_detection"
   ]
  },
  {
   "cell_type": "markdown",
   "metadata": {
    "id": "u6CuJlaYKFY2"
   },
   "source": [
    "### Cài đặt và giải nén pretrain_model"
   ]
  },
  {
   "cell_type": "code",
   "execution_count": 29,
   "metadata": {
    "colab": {
     "base_uri": "https://localhost:8080/"
    },
    "executionInfo": {
     "elapsed": 1176,
     "status": "ok",
     "timestamp": 1713146129224,
     "user": {
      "displayName": "Nhật Minh Lâm",
      "userId": "04323035584587404867"
     },
     "user_tz": -420
    },
    "id": "r7X_8_U76FQo",
    "outputId": "04aa17b2-ac52-4e67-9c15-a1a5e81a8eb6",
    "scrolled": true
   },
   "outputs": [
    {
     "name": "stdout",
     "output_type": "stream",
     "text": [
      "100% [........................................................................] 20518283 / 20518283        1 file(s) moved.\n"
     ]
    },
    {
     "name": "stderr",
     "output_type": "stream",
     "text": [
      "x ssd_mobilenet_v2_fpnlite_640x640_coco17_tpu-8/\n",
      "x ssd_mobilenet_v2_fpnlite_640x640_coco17_tpu-8/checkpoint/\n",
      "x ssd_mobilenet_v2_fpnlite_640x640_coco17_tpu-8/checkpoint/ckpt-0.data-00000-of-00001\n",
      "x ssd_mobilenet_v2_fpnlite_640x640_coco17_tpu-8/checkpoint/checkpoint\n",
      "x ssd_mobilenet_v2_fpnlite_640x640_coco17_tpu-8/checkpoint/ckpt-0.index\n",
      "x ssd_mobilenet_v2_fpnlite_640x640_coco17_tpu-8/pipeline.config\n",
      "x ssd_mobilenet_v2_fpnlite_640x640_coco17_tpu-8/saved_model/\n",
      "x ssd_mobilenet_v2_fpnlite_640x640_coco17_tpu-8/saved_model/saved_model.pb\n",
      "x ssd_mobilenet_v2_fpnlite_640x640_coco17_tpu-8/saved_model/variables/\n",
      "x ssd_mobilenet_v2_fpnlite_640x640_coco17_tpu-8/saved_model/variables/variables.data-00000-of-00001\n",
      "x ssd_mobilenet_v2_fpnlite_640x640_coco17_tpu-8/saved_model/variables/variables.index\n"
     ]
    }
   ],
   "source": [
    "if len(os.listdir(paths['PRETRAINED_MODEL_PATH'])) == 0:\n",
    "    wget.download(f'{PRETRAINED_MODEL_URL}')\n",
    "    !move {PRETRAINED_MODEL_NAME+'.tar.gz'} {paths['PRETRAINED_MODEL_PATH']}\n",
    "    !cd {paths['PRETRAINED_MODEL_PATH']} && tar -zxvf {PRETRAINED_MODEL_NAME+'.tar.gz'}"
   ]
  }
 ],
 "metadata": {
  "colab": {
   "authorship_tag": "ABX9TyOFW7+9vt0UnPFXKaoIIhbI",
   "collapsed_sections": [
    "k7bMtjL_FE0B",
    "3lYhJJ1PKWdm",
    "meddBUJpLuPW",
    "QWVqXXZzW4uW",
    "RNprH0G1XC3T",
    "BwLmej9KY-P3",
    "EXNXH9qjZIM_"
   ],
   "provenance": []
  },
  "kernelspec": {
   "display_name": "myvenv",
   "language": "python",
   "name": "myvenv"
  },
  "language_info": {
   "codemirror_mode": {
    "name": "ipython",
    "version": 3
   },
   "file_extension": ".py",
   "mimetype": "text/x-python",
   "name": "python",
   "nbconvert_exporter": "python",
   "pygments_lexer": "ipython3",
   "version": "3.11.9"
  }
 },
 "nbformat": 4,
 "nbformat_minor": 4
}
