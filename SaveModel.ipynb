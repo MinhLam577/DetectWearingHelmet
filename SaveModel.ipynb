{
 "cells": [
  {
   "cell_type": "code",
   "execution_count": 1,
   "id": "88955e8e-08ea-434f-b8e0-5f5077d5b1b7",
   "metadata": {},
   "outputs": [],
   "source": [
    "import os"
   ]
  },
  {
   "cell_type": "code",
   "execution_count": 2,
   "id": "1ea2abba-7db9-4912-9da8-92185e59e958",
   "metadata": {},
   "outputs": [],
   "source": [
    "MAIN_FOLDER_PATH = os.getcwd()\n",
    "CUSTOM_MODEL_NAME = 'my_ssd_mobnet' \n",
    "TF_RECORD_SCRIPT_NAME = 'generate_tfrecord.py'\n",
    "LABEL_MAP_NAME = 'label_map.pbtxt'\n",
    "export_main_v2_path = MAIN_FOLDER_PATH + \"\\\\\" + \"scripts\\\\exporter_main_v2.py\""
   ]
  },
  {
   "cell_type": "code",
   "execution_count": 3,
   "id": "6badb669-0dfd-4288-b6b6-be4b9a26cdd1",
   "metadata": {},
   "outputs": [],
   "source": [
    "paths = {\n",
    "    'WORKSPACE_PATH': os.path.join(MAIN_FOLDER_PATH, 'Tensorflow', 'workspace'),\n",
    "    'SCRIPTS_PATH': os.path.join(MAIN_FOLDER_PATH, 'Tensorflow','scripts'),\n",
    "    'APIMODEL_PATH': os.path.join(MAIN_FOLDER_PATH, 'Tensorflow','models'),\n",
    "    'ANNOTATION_PATH': os.path.join(MAIN_FOLDER_PATH, 'Tensorflow', 'workspace','annotations'),\n",
    "    'IMAGE_PATH': os.path.join(MAIN_FOLDER_PATH, 'Tensorflow', 'workspace','images'),\n",
    "    'MODEL_PATH': os.path.join(MAIN_FOLDER_PATH, 'Tensorflow', 'workspace','models'),\n",
    "    'PRETRAINED_MODEL_PATH': os.path.join(MAIN_FOLDER_PATH,'Tensorflow', 'workspace','pre-trained-models'),\n",
    "    'CHECKPOINT_PATH': os.path.join(MAIN_FOLDER_PATH,'Tensorflow', 'workspace','models',CUSTOM_MODEL_NAME), \n",
    "    'EXPORTED_MODEL_PATH': os.path.join(MAIN_FOLDER_PATH,'Tensorflow', 'workspace','exported-models', CUSTOM_MODEL_NAME),\n",
    "    'PROTOC_PATH':os.path.join(MAIN_FOLDER_PATH,'Tensorflow','protoc')\n",
    "}"
   ]
  },
  {
   "cell_type": "code",
   "execution_count": 4,
   "id": "f0bdfff8-cae7-4f83-8f48-43bd18325b00",
   "metadata": {},
   "outputs": [],
   "source": [
    "files = {\n",
    "    'PIPELINE_CONFIG':os.path.join(MAIN_FOLDER_PATH,'Tensorflow', 'workspace','models', CUSTOM_MODEL_NAME, 'pipeline.config'),\n",
    "    'TF_RECORD_SCRIPT': os.path.join(paths['SCRIPTS_PATH'], TF_RECORD_SCRIPT_NAME), \n",
    "    'LABELMAP': os.path.join(paths['ANNOTATION_PATH'], LABEL_MAP_NAME)\n",
    "}"
   ]
  },
  {
   "cell_type": "code",
   "execution_count": 5,
   "id": "5bf3d822-78f7-40b4-ba80-18f1c499ca62",
   "metadata": {},
   "outputs": [],
   "source": [
    "checpoint_path = r'D:\\Code_school_nam3ki2\\TestModel\\check'\n",
    "save_path = r'D:\\Code_school_nam3ki2\\TestModel\\check\\exported_model'"
   ]
  },
  {
   "cell_type": "code",
   "execution_count": 6,
   "id": "a8a689d0-4a2c-444e-b74d-ff9198178738",
   "metadata": {},
   "outputs": [],
   "source": [
    "command_export = f\"python {export_main_v2_path} --input_type image_tensor --pipeline_config_path {files['PIPELINE_CONFIG']} --trained_checkpoint_dir {checpoint_path} --output_directory {save_path}\""
   ]
  },
  {
   "cell_type": "code",
   "execution_count": null,
   "id": "ef2a3c81-541d-4ebb-a5d0-bf94401b6b64",
   "metadata": {},
   "outputs": [],
   "source": [
    "!command_export"
   ]
  }
 ],
 "metadata": {
  "kernelspec": {
   "display_name": "py310",
   "language": "python",
   "name": "py310"
  },
  "language_info": {
   "codemirror_mode": {
    "name": "ipython",
    "version": 3
   },
   "file_extension": ".py",
   "mimetype": "text/x-python",
   "name": "python",
   "nbconvert_exporter": "python",
   "pygments_lexer": "ipython3",
   "version": "3.10.14"
  }
 },
 "nbformat": 4,
 "nbformat_minor": 5
}
