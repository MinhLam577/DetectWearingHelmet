{
 "cells": [
  {
   "cell_type": "code",
   "execution_count": 1,
   "metadata": {
    "executionInfo": {
     "elapsed": 459,
     "status": "ok",
     "timestamp": 1713145588902,
     "user": {
      "displayName": "Nhật Minh Lâm",
      "userId": "04323035584587404867"
     },
     "user_tz": -420
    },
    "id": "OgMSrnOZiag2"
   },
   "outputs": [],
   "source": [
    "import os"
   ]
  },
  {
   "cell_type": "markdown",
   "metadata": {
    "id": "lGBDiDG2EJck"
   },
   "source": [
    "# 1. Khai báo tên model, pretrain_model và file cần làm việc"
   ]
  },
  {
   "cell_type": "code",
   "execution_count": 15,
   "metadata": {
    "executionInfo": {
     "elapsed": 330,
     "status": "ok",
     "timestamp": 1713145594373,
     "user": {
      "displayName": "Nhật Minh Lâm",
      "userId": "04323035584587404867"
     },
     "user_tz": -420
    },
    "id": "iBEllNXrMdiC"
   },
   "outputs": [
    {
     "data": {
      "text/plain": [
       "'D:\\\\Code_school_nam3ki2\\\\KhoaHocDuLieu\\\\NhanDienMuBaoHiem'"
      ]
     },
     "execution_count": 15,
     "metadata": {},
     "output_type": "execute_result"
    }
   ],
   "source": [
    "PRETRAIN_MODEL_NAME = 'faster_rcnn_resnet152_v1_640x640_coco17_tpu-8'\n",
    "PRETRAIN_MODEL_URL = 'http://download.tensorflow.org/models/object_detection/tf2/20200711/faster_rcnn_resnet152_v1_640x640_coco17_tpu-8.tar.gz'\n",
    "TF_RECORD_SCRIPT_NAME = 'generate_tfrecord.py' #Tên file convert xml sang tfrecord\n",
    "LABEL_MAP_NAME = 'label_map.pbtxt' #Tên file label\n",
    "MAIN_FOLDER_PATH = os.getcwd()\n",
    "CUSTOM_MODEL_NAME = 'my_ssd_mobnet' # Tên của custom model\n",
    "MAIN_FOLDER_PATH"
   ]
  },
  {
   "cell_type": "markdown",
   "metadata": {
    "id": "l7nUH7obEfNp"
   },
   "source": [
    "# 2. Khai báo các đường dẫn thư mục làm việc"
   ]
  },
  {
   "cell_type": "code",
   "execution_count": 3,
   "metadata": {
    "executionInfo": {
     "elapsed": 485,
     "status": "ok",
     "timestamp": 1713145597029,
     "user": {
      "displayName": "Nhật Minh Lâm",
      "userId": "04323035584587404867"
     },
     "user_tz": -420
    },
    "id": "omvukk5dY9Gz"
   },
   "outputs": [
    {
     "data": {
      "text/plain": [
       "{'WORKSPACE_PATH': 'D:\\\\Code_school_nam3ki2\\\\KhoaHocDuLieu\\\\NhanDienMuBaoHiem\\\\Tensorflow\\\\workspace',\n",
       " 'SCRIPTS_PATH': 'D:\\\\Code_school_nam3ki2\\\\KhoaHocDuLieu\\\\NhanDienMuBaoHiem\\\\Tensorflow\\\\scripts',\n",
       " 'APIMODEL_PATH': 'D:\\\\Code_school_nam3ki2\\\\KhoaHocDuLieu\\\\NhanDienMuBaoHiem\\\\Tensorflow\\\\models',\n",
       " 'ANNOTATION_PATH': 'D:\\\\Code_school_nam3ki2\\\\KhoaHocDuLieu\\\\NhanDienMuBaoHiem\\\\Tensorflow\\\\workspace\\\\annotations',\n",
       " 'IMAGE_PATH': 'D:\\\\Code_school_nam3ki2\\\\KhoaHocDuLieu\\\\NhanDienMuBaoHiem\\\\Tensorflow\\\\workspace\\\\images',\n",
       " 'MODEL_PATH': 'D:\\\\Code_school_nam3ki2\\\\KhoaHocDuLieu\\\\NhanDienMuBaoHiem\\\\Tensorflow\\\\workspace\\\\models',\n",
       " 'PRETRAINED_MODEL_PATH': 'D:\\\\Code_school_nam3ki2\\\\KhoaHocDuLieu\\\\NhanDienMuBaoHiem\\\\Tensorflow\\\\workspace\\\\pre-trained-models',\n",
       " 'CHECKPOINT_PATH': 'D:\\\\Code_school_nam3ki2\\\\KhoaHocDuLieu\\\\NhanDienMuBaoHiem\\\\Tensorflow\\\\workspace\\\\models\\\\my_ssd_mobnet',\n",
       " 'EXPORTED_MODEL_PATH': 'D:\\\\Code_school_nam3ki2\\\\KhoaHocDuLieu\\\\NhanDienMuBaoHiem\\\\Tensorflow\\\\workspace\\\\exported-models\\\\my_ssd_mobnet',\n",
       " 'PROTOC_PATH': 'D:\\\\Code_school_nam3ki2\\\\KhoaHocDuLieu\\\\NhanDienMuBaoHiem\\\\Tensorflow\\\\protoc'}"
      ]
     },
     "execution_count": 3,
     "metadata": {},
     "output_type": "execute_result"
    }
   ],
   "source": [
    "paths = {\n",
    "    'WORKSPACE_PATH': os.path.join(MAIN_FOLDER_PATH, 'Tensorflow', 'workspace'), #Folder lảm việc, lưu dữ liệu khi train, valid và test\n",
    "    'SCRIPTS_PATH': os.path.join(MAIN_FOLDER_PATH, 'Tensorflow','scripts'), #Folder chạy các file script liên quan đến convert ảnh\n",
    "    'APIMODEL_PATH': os.path.join(MAIN_FOLDER_PATH, 'Tensorflow','models'), #Folder chứa tensorflow object detection api\n",
    "    'ANNOTATION_PATH': os.path.join(MAIN_FOLDER_PATH, 'Tensorflow', 'workspace','annotations'), #Folder chứa các file config và file record\n",
    "    'IMAGE_PATH': os.path.join(MAIN_FOLDER_PATH, 'Tensorflow', 'workspace','images'), #Folder chứa ảnh\n",
    "    'MODEL_PATH': os.path.join(MAIN_FOLDER_PATH, 'Tensorflow', 'workspace','models'), #Folder chứa dữ liệu model khi làm việc(train, valid, test)\n",
    "    'PRETRAINED_MODEL_PATH': os.path.join(MAIN_FOLDER_PATH,'Tensorflow', 'workspace','pre-trained-models'), #Folder chứa pretrain model\n",
    "    'CHECKPOINT_PATH': os.path.join(MAIN_FOLDER_PATH,'Tensorflow', 'workspace','models',CUSTOM_MODEL_NAME), #Folder chứa các checkpoint\n",
    "    'EXPORTED_MODEL_PATH': os.path.join(MAIN_FOLDER_PATH,'Tensorflow', 'workspace','exported-models', CUSTOM_MODEL_NAME), #Folder chứa model được lưu lại\n",
    "    'PROTOC_PATH':os.path.join(MAIN_FOLDER_PATH,'Tensorflow','protoc') #Folder chứa protocol\n",
    "}\n",
    "paths"
   ]
  },
  {
   "cell_type": "markdown",
   "metadata": {
    "id": "k7bMtjL_FE0B"
   },
   "source": [
    "# 3. Khai báo các đường dẫn file làm việc"
   ]
  },
  {
   "cell_type": "code",
   "execution_count": 4,
   "metadata": {
    "executionInfo": {
     "elapsed": 313,
     "status": "ok",
     "timestamp": 1713145600946,
     "user": {
      "displayName": "Nhật Minh Lâm",
      "userId": "04323035584587404867"
     },
     "user_tz": -420
    },
    "id": "Y5B2r2Nmo-1U"
   },
   "outputs": [
    {
     "data": {
      "text/plain": [
       "{'PIPELINE_CONFIG': 'D:\\\\Code_school_nam3ki2\\\\KhoaHocDuLieu\\\\NhanDienMuBaoHiem\\\\Tensorflow\\\\workspace\\\\models\\\\my_ssd_mobnet\\\\pipeline.config',\n",
       " 'TF_RECORD_SCRIPT': 'D:\\\\Code_school_nam3ki2\\\\KhoaHocDuLieu\\\\NhanDienMuBaoHiem\\\\Tensorflow\\\\scripts\\\\generate_tfrecord.py',\n",
       " 'LABELMAP': 'D:\\\\Code_school_nam3ki2\\\\KhoaHocDuLieu\\\\NhanDienMuBaoHiem\\\\Tensorflow\\\\workspace\\\\annotations\\\\label_map.pbtxt'}"
      ]
     },
     "execution_count": 4,
     "metadata": {},
     "output_type": "execute_result"
    }
   ],
   "source": [
    "files = {\n",
    "    'PIPELINE_CONFIG':os.path.join(MAIN_FOLDER_PATH,'Tensorflow', 'workspace','models', CUSTOM_MODEL_NAME, 'pipeline.config'), #Path file pipelineconfig\n",
    "    'TF_RECORD_SCRIPT': os.path.join(paths['SCRIPTS_PATH'], TF_RECORD_SCRIPT_NAME), #Path đến file convert từ xml sang tfrecord \n",
    "    'LABELMAP': os.path.join(paths['ANNOTATION_PATH'], LABEL_MAP_NAME) #Path label_config\n",
    "}\n",
    "files"
   ]
  },
  {
   "cell_type": "markdown",
   "metadata": {
    "id": "1pgb0SkvFM2y"
   },
   "source": [
    "## Khởi tạo các đường dẫn thư mục và tải các thư viện cần thiết"
   ]
  },
  {
   "cell_type": "code",
   "execution_count": 5,
   "metadata": {
    "executionInfo": {
     "elapsed": 1638,
     "status": "ok",
     "timestamp": 1713145620116,
     "user": {
      "displayName": "Nhật Minh Lâm",
      "userId": "04323035584587404867"
     },
     "user_tz": -420
    },
    "id": "rhX18Dg_5y6Q"
   },
   "outputs": [],
   "source": [
    "for path in paths.values():\n",
    "    if not os.path.exists(path):\n",
    "          !mkdir -p {path}"
   ]
  },
  {
   "cell_type": "code",
   "execution_count": 31,
   "metadata": {
    "colab": {
     "base_uri": "https://localhost:8080/"
    },
    "executionInfo": {
     "elapsed": 21150,
     "status": "ok",
     "timestamp": 1713145679545,
     "user": {
      "displayName": "Nhật Minh Lâm",
      "userId": "04323035584587404867"
     },
     "user_tz": -420
    },
    "id": "PZCCz-woBwpG",
    "outputId": "f20b0d1a-aaa4-4a58-cb2c-7b9cc81f21bf"
   },
   "outputs": [
    {
     "name": "stdout",
     "output_type": "stream",
     "text": [
      "Requirement already satisfied: wget in c:\\users\\minh3\\.conda\\envs\\py310\\lib\\site-packages (3.2)\n"
     ]
    }
   ],
   "source": [
    "!pip install wget"
   ]
  },
  {
   "cell_type": "code",
   "execution_count": 6,
   "metadata": {
    "executionInfo": {
     "elapsed": 309,
     "status": "ok",
     "timestamp": 1713145682652,
     "user": {
      "displayName": "Nhật Minh Lâm",
      "userId": "04323035584587404867"
     },
     "user_tz": -420
    },
    "id": "iVIH4DV953o0"
   },
   "outputs": [],
   "source": [
    "import wget"
   ]
  },
  {
   "cell_type": "markdown",
   "metadata": {
    "id": "LIjpKYDeFwE_"
   },
   "source": [
    "### Clone model tensorflow và object_detection"
   ]
  },
  {
   "cell_type": "code",
   "execution_count": 7,
   "metadata": {
    "colab": {
     "base_uri": "https://localhost:8080/"
    },
    "executionInfo": {
     "elapsed": 41167,
     "status": "ok",
     "timestamp": 1713145731251,
     "user": {
      "displayName": "Nhật Minh Lâm",
      "userId": "04323035584587404867"
     },
     "user_tz": -420
    },
    "id": "4VirYPC955y2",
    "outputId": "80074789-28e6-4d9f-8ec9-60034db89e7f"
   },
   "outputs": [],
   "source": [
    "if not os.path.exists(os.path.join(paths['APIMODEL_PATH'], 'research', 'object_detection')):\n",
    "    !git clone https://github.com/tensorflow/models {os.path.join(paths['APIMODEL_PATH'])}"
   ]
  },
  {
   "cell_type": "markdown",
   "metadata": {
    "id": "Rr3RaSExJLCm"
   },
   "source": [
    "### Cài đặt và giải nén protocol buffer, cài đặt và cấu hình môi trường protocol buffer cho việc sử dụng TensorFlow Object Detection API."
   ]
  },
  {
   "cell_type": "code",
   "execution_count": 8,
   "metadata": {
    "colab": {
     "base_uri": "https://localhost:8080/"
    },
    "executionInfo": {
     "elapsed": 73084,
     "status": "ok",
     "timestamp": 1713145821693,
     "user": {
      "displayName": "Nhật Minh Lâm",
      "userId": "04323035584587404867"
     },
     "user_tz": -420
    },
    "id": "Uiost0kHIe2_",
    "outputId": "e7add60b-9e6d-4b7e-aab1-819aa3c54043"
   },
   "outputs": [],
   "source": [
    "# Tải Protocol\n",
    "if len(os.listdir(paths['PROTOC_PATH'])) == 0:\n",
    "    url=\"https://github.com/protocolbuffers/protobuf/releases/download/v3.15.6/protoc-3.15.6-win64.zip\"\n",
    "    wget.download(url)\n",
    "    os.system(f\"move protoc-3.15.6-win64.zip {paths['PROTOC_PATH']}\")\n",
    "    os.system(f\"cd {paths['PROTOC_PATH']} && tar -xf protoc-3.15.6-win64.zip\")"
   ]
  },
  {
   "cell_type": "code",
   "execution_count": 57,
   "metadata": {},
   "outputs": [],
   "source": [
    "# Thêm đường dẫn folder bin vào biến môi trường\n",
    "os.environ['PATH'] += os.path.abspath(os.path.join(paths['PROTOC_PATH'], 'bin'))"
   ]
  },
  {
   "cell_type": "code",
   "execution_count": 9,
   "metadata": {},
   "outputs": [
    {
     "data": {
      "text/plain": [
       "'C:\\\\Users\\\\minh3\\\\.conda\\\\envs\\\\py310;C:\\\\Users\\\\minh3\\\\.conda\\\\envs\\\\py310\\\\Library\\\\mingw-w64\\\\bin;C:\\\\Users\\\\minh3\\\\.conda\\\\envs\\\\py310\\\\Library\\\\usr\\\\bin;C:\\\\Users\\\\minh3\\\\.conda\\\\envs\\\\py310\\\\Library\\\\bin;C:\\\\Users\\\\minh3\\\\.conda\\\\envs\\\\py310\\\\Scripts;C:\\\\Users\\\\minh3\\\\.conda\\\\envs\\\\py310\\\\bin;C:\\\\ProgramData\\\\anaconda3\\\\condabin;C:\\\\Program Files\\\\NVIDIA GPU Computing Toolkit\\\\CUDA\\\\v11.8\\\\bin;C:\\\\Program Files\\\\NVIDIA GPU Computing Toolkit\\\\CUDA\\\\v11.8\\\\libnvvp;.;C:\\\\Program Files\\\\Python310\\\\Scripts;C:\\\\Program Files\\\\Python310;C:\\\\Program Files\\\\Common Files\\\\Oracle\\\\Java\\\\javapath;C:\\\\Windows\\\\system32;C:\\\\Windows;C:\\\\Windows\\\\System32\\\\Wbem;C:\\\\Windows\\\\System32\\\\WindowsPowerShell\\\\v1.0;C:\\\\Windows\\\\System32\\\\OpenSSH;C:\\\\Program Files (x86)\\\\NVIDIA Corporation\\\\PhysX\\\\Common;C:\\\\Program Files\\\\NVIDIA Corporation\\\\NVIDIA NvDLISR;C:\\\\WINDOWS\\\\system32;C:\\\\WINDOWS;C:\\\\WINDOWS\\\\System32\\\\Wbem;C:\\\\WINDOWS\\\\System32\\\\WindowsPowerShell\\\\v1.0;C:\\\\WINDOWS\\\\System32\\\\OpenSSH;C:\\\\Program Files\\\\Microsoft SQL Server\\\\Client SDK\\\\ODBC\\\\170\\\\Tools\\\\Binn;C:\\\\Program Files (x86)\\\\Microsoft SQL Server\\\\150\\\\Tools\\\\Binn;C:\\\\Program Files\\\\Microsoft SQL Server\\\\150\\\\Tools\\\\Binn;C:\\\\Program Files\\\\Microsoft SQL Server\\\\150\\\\DTS\\\\Binn;C:\\\\Program Files (x86)\\\\Microsoft SQL Server\\\\150\\\\DTS\\\\Binn;C:\\\\Program Files\\\\Azure Data Studio\\\\bin;C:\\\\Program Files\\\\dotnet;E:\\\\xampp\\\\php;C:\\\\Program Files\\\\nodejs;C:\\\\Program Files\\\\Git\\\\cmd;C:\\\\Program Files\\\\NVIDIA Corporation\\\\Nsight Compute 2022.3.0;C:\\\\WINDOWS\\\\system32;C:\\\\WINDOWS;C:\\\\WINDOWS\\\\System32\\\\Wbem;C:\\\\WINDOWS\\\\System32\\\\WindowsPowerShell\\\\v1.0;C:\\\\WINDOWS\\\\System32\\\\OpenSSH;C:\\\\Users\\\\minh3\\\\AppData\\\\Local\\\\Microsoft\\\\WindowsApps;C:\\\\Program Files\\\\Azure Data Studio\\\\bin;C:\\\\Users\\\\minh3\\\\.dotnet\\\\tools;C:\\\\Users\\\\minh3\\\\AppData\\\\Local\\\\GitHubDesktop\\\\bin;C:\\\\Users\\\\minh3\\\\AppData\\\\Local\\\\Programs\\\\Microsoft VS Code\\\\bin;E:\\\\xampp\\\\php;E:\\\\php;C:\\\\Users\\\\minh3\\\\AppData\\\\Roaming\\\\npm;D:\\\\Code_school_nam3ki2\\\\TestModel\\\\TFODCourse\\\\Tensorflow\\\\protoc\\\\bin;C:\\\\Program Files\\\\NVIDIA GPU Computing Toolkit\\\\CUDA\\\\v11.8\\\\bin;C:\\\\Program Files\\\\NVIDIA GPU Computing Toolkit\\\\CUDA\\\\v11.8\\\\libnvvp;C:\\\\Program Files\\\\NVIDIA GPU Computing Toolkit\\\\CUDA\\\\v11.8\\\\extras\\\\CUPTI\\\\lib64;.;C:\\\\Users\\\\minh3\\\\.conda\\\\envs\\\\py310;C:\\\\Users\\\\minh3\\\\.conda\\\\envs\\\\py310\\\\Library\\\\mingw-w64\\\\bin;C:\\\\Users\\\\minh3\\\\.conda\\\\envs\\\\py310\\\\Library\\\\usr\\\\bin;C:\\\\Users\\\\minh3\\\\.conda\\\\envs\\\\py310\\\\Library\\\\bin;C:\\\\Users\\\\minh3\\\\.conda\\\\envs\\\\py310\\\\Scripts;C:\\\\Users\\\\minh3\\\\.conda\\\\envs\\\\py310\\\\bin;C:\\\\ProgramData\\\\anaconda3\\\\condabin;C:\\\\Program Files\\\\NVIDIA GPU Computing Toolkit\\\\CUDA\\\\v11.8\\\\bin;C:\\\\Program Files\\\\NVIDIA GPU Computing Toolkit\\\\CUDA\\\\v11.8\\\\libnvvp;.;C:\\\\Program Files\\\\Python310\\\\Scripts;C:\\\\Program Files\\\\Python310;C:\\\\Program Files\\\\Common Files\\\\Oracle\\\\Java\\\\javapath;C:\\\\Windows\\\\system32;C:\\\\Windows;C:\\\\Windows\\\\System32\\\\Wbem;C:\\\\Windows\\\\System32\\\\WindowsPowerShell\\\\v1.0;C:\\\\Windows\\\\System32\\\\OpenSSH;C:\\\\Program Files (x86)\\\\NVIDIA Corporation\\\\PhysX\\\\Common;C:\\\\Program Files\\\\NVIDIA Corporation\\\\NVIDIA NvDLISR;C:\\\\WINDOWS\\\\system32;C:\\\\WINDOWS;C:\\\\WINDOWS\\\\System32\\\\Wbem;C:\\\\WINDOWS\\\\System32\\\\WindowsPowerShell\\\\v1.0;C:\\\\WINDOWS\\\\System32\\\\OpenSSH;C:\\\\Program Files\\\\Microsoft SQL Server\\\\Client SDK\\\\ODBC\\\\170\\\\Tools\\\\Binn;C:\\\\Program Files (x86)\\\\Microsoft SQL Server\\\\150\\\\Tools\\\\Binn;C:\\\\Program Files\\\\Microsoft SQL Server\\\\150\\\\Tools\\\\Binn;C:\\\\Program Files\\\\Microsoft SQL Server\\\\150\\\\DTS\\\\Binn;C:\\\\Program Files (x86)\\\\Microsoft SQL Server\\\\150\\\\DTS\\\\Binn;C:\\\\Program Files\\\\Azure Data Studio\\\\bin;C:\\\\Program Files\\\\dotnet;E:\\\\xampp\\\\php;C:\\\\Program Files\\\\nodejs;C:\\\\Program Files\\\\Git\\\\cmd;C:\\\\Program Files\\\\NVIDIA Corporation\\\\Nsight Compute 2022.3.0;C:\\\\WINDOWS\\\\system32;C:\\\\WINDOWS;C:\\\\WINDOWS\\\\System32\\\\Wbem;C:\\\\WINDOWS\\\\System32\\\\WindowsPowerShell\\\\v1.0;C:\\\\WINDOWS\\\\System32\\\\OpenSSH;C:\\\\Users\\\\minh3\\\\AppData\\\\Local\\\\Microsoft\\\\WindowsApps;C:\\\\Program Files\\\\Azure Data Studio\\\\bin;C:\\\\Users\\\\minh3\\\\.dotnet\\\\tools;C:\\\\Users\\\\minh3\\\\AppData\\\\Local\\\\GitHubDesktop\\\\bin;C:\\\\Users\\\\minh3\\\\AppData\\\\Local\\\\Programs\\\\Microsoft VS Code\\\\bin;E:\\\\xampp\\\\php;E:\\\\php;C:\\\\Users\\\\minh3\\\\AppData\\\\Roaming\\\\npm;D:\\\\Code_school_nam3ki2\\\\TestModel\\\\TFODCourse\\\\Tensorflow\\\\protoc\\\\bin;C:\\\\Program Files\\\\NVIDIA GPU Computing Toolkit\\\\CUDA\\\\v11.8\\\\bin;C:\\\\Program Files\\\\NVIDIA GPU Computing Toolkit\\\\CUDA\\\\v11.8\\\\libnvvp;C:\\\\Program Files\\\\NVIDIA GPU Computing Toolkit\\\\CUDA\\\\v11.8\\\\extras\\\\CUPTI\\\\lib64;.;C:\\\\Program Files\\\\NVIDIA GPU Computing Toolkit\\\\CUDA\\\\v11.8\\\\bin;C:\\\\Program Files\\\\NVIDIA GPU Computing Toolkit\\\\CUDA\\\\v11.8\\\\libnvvp;;C:\\\\Program Files\\\\Python310\\\\Scripts\\\\;C:\\\\Program Files\\\\Python310\\\\;C:\\\\Program Files\\\\Common Files\\\\Oracle\\\\Java\\\\javapath;C:\\\\Windows\\\\system32;C:\\\\Windows;C:\\\\Windows\\\\System32\\\\Wbem;C:\\\\Windows\\\\System32\\\\WindowsPowerShell\\\\v1.0\\\\;C:\\\\Windows\\\\System32\\\\OpenSSH\\\\;C:\\\\Program Files (x86)\\\\NVIDIA Corporation\\\\PhysX\\\\Common;C:\\\\Program Files\\\\NVIDIA Corporation\\\\NVIDIA NvDLISR;C:\\\\WINDOWS\\\\system32;C:\\\\WINDOWS;C:\\\\WINDOWS\\\\System32\\\\Wbem;C:\\\\WINDOWS\\\\System32\\\\WindowsPowerShell\\\\v1.0\\\\;C:\\\\WINDOWS\\\\System32\\\\OpenSSH\\\\;C:\\\\Program Files\\\\Microsoft SQL Server\\\\Client SDK\\\\ODBC\\\\170\\\\Tools\\\\Binn\\\\;C:\\\\Program Files (x86)\\\\Microsoft SQL Server\\\\150\\\\Tools\\\\Binn\\\\;C:\\\\Program Files\\\\Microsoft SQL Server\\\\150\\\\Tools\\\\Binn\\\\;C:\\\\Program Files\\\\Microsoft SQL Server\\\\150\\\\DTS\\\\Binn\\\\;C:\\\\Program Files (x86)\\\\Microsoft SQL Server\\\\150\\\\DTS\\\\Binn\\\\;C:\\\\Program Files\\\\Azure Data Studio\\\\bin;C:\\\\Program Files\\\\dotnet\\\\;E:\\\\xampp\\\\php;C:\\\\Program Files\\\\nodejs\\\\;C:\\\\Program Files\\\\Git\\\\cmd;C:\\\\Program Files\\\\NVIDIA Corporation\\\\Nsight Compute 2022.3.0\\\\;C:\\\\WINDOWS\\\\system32;C:\\\\WINDOWS;C:\\\\WINDOWS\\\\System32\\\\Wbem;C:\\\\WINDOWS\\\\System32\\\\WindowsPowerShell\\\\v1.0\\\\;C:\\\\WINDOWS\\\\System32\\\\OpenSSH\\\\;C:\\\\Users\\\\minh3\\\\AppData\\\\Local\\\\Microsoft\\\\WindowsApps;C:\\\\Program Files\\\\Azure Data Studio\\\\bin;C:\\\\Users\\\\minh3\\\\.dotnet\\\\tools;C:\\\\Users\\\\minh3\\\\AppData\\\\Local\\\\GitHubDesktop\\\\bin;C:\\\\Users\\\\minh3\\\\AppData\\\\Local\\\\Programs\\\\Microsoft VS Code\\\\bin;E:\\\\xampp\\\\php;E:\\\\php;C:\\\\Users\\\\minh3\\\\AppData\\\\Roaming\\\\npm;D:\\\\Code_school_nam3ki2\\\\TestModel\\\\TFODCourse\\\\Tensorflow\\\\protoc\\\\bin;C:\\\\Program Files\\\\NVIDIA GPU Computing Toolkit\\\\CUDA\\\\v11.8\\\\bin;C:\\\\Program Files\\\\NVIDIA GPU Computing Toolkit\\\\CUDA\\\\v11.8\\\\libnvvp;C:\\\\Program Files\\\\NVIDIA GPU Computing Toolkit\\\\CUDA\\\\v11.8\\\\extras\\\\CUPTI\\\\lib64;'"
      ]
     },
     "execution_count": 9,
     "metadata": {},
     "output_type": "execute_result"
    }
   ],
   "source": [
    "#Kiểm tra đường dẫn hợp lệ hay chưa\n",
    "os.environ['PATH']"
   ]
  },
  {
   "cell_type": "code",
   "execution_count": null,
   "metadata": {},
   "outputs": [],
   "source": [
    "# Compile protobuf files and install all required libraries\n",
    "os.system(f\"cd Tensorflow/models/research && protoc object_detection/protos/*.proto --python_out=. && copy object_detection\\\\packages\\\\tf2\\\\setup.py setup.py && python setup.py build && python setup.py install\")"
   ]
  },
  {
   "cell_type": "code",
   "execution_count": null,
   "metadata": {},
   "outputs": [],
   "source": [
    "os.system(f\"cd Tensorflow/models/research/slim && pip install -e .\")"
   ]
  },
  {
   "cell_type": "markdown",
   "metadata": {
    "id": "36kstoRZJY9S"
   },
   "source": [
    "### Kiểm tra tất cả thư viện đã tải về thành công"
   ]
  },
  {
   "cell_type": "code",
   "execution_count": 10,
   "metadata": {
    "colab": {
     "base_uri": "https://localhost:8080/"
    },
    "executionInfo": {
     "elapsed": 77104,
     "status": "ok",
     "timestamp": 1713145998682,
     "user": {
      "displayName": "Nhật Minh Lâm",
      "userId": "04323035584587404867"
     },
     "user_tz": -420
    },
    "id": "l-jnLE9E592W",
    "outputId": "8488c8e5-da69-4cbe-c8a8-ebfbc7c7e3ae"
   },
   "outputs": [
    {
     "name": "stderr",
     "output_type": "stream",
     "text": [
      "Running tests under Python 3.10.14: C:\\Users\\minh3\\.conda\\envs\\py310\\python.exe\n",
      "[ RUN      ] ModelBuilderTF2Test.test_create_center_net_deepmac\n",
      "2024-05-20 17:23:28.421883: I tensorflow/core/platform/cpu_feature_guard.cc:193] This TensorFlow binary is optimized with oneAPI Deep Neural Network Library (oneDNN) to use the following CPU instructions in performance-critical operations:  AVX AVX2\n",
      "To enable them in other operations, rebuild TensorFlow with the appropriate compiler flags.\n",
      "2024-05-20 17:23:29.607656: I tensorflow/core/common_runtime/gpu/gpu_device.cc:1616] Created device /job:localhost/replica:0/task:0/device:GPU:0 with 1668 MB memory:  -> device: 0, name: NVIDIA GeForce RTX 3050 Laptop GPU, pci bus id: 0000:01:00.0, compute capability: 8.6\n",
      "C:\\Users\\minh3\\.conda\\envs\\py310\\lib\\site-packages\\object_detection\\builders\\model_builder.py:1112: DeprecationWarning: The 'warn' function is deprecated, use 'warning' instead\n",
      "  logging.warn(('Building experimental DeepMAC meta-arch.'\n",
      "W0520 17:23:30.367841 18772 model_builder.py:1112] Building experimental DeepMAC meta-arch. Some features may be omitted.\n",
      "INFO:tensorflow:time(__main__.ModelBuilderTF2Test.test_create_center_net_deepmac): 2.29s\n",
      "I0520 17:23:30.689888 18772 test_util.py:2460] time(__main__.ModelBuilderTF2Test.test_create_center_net_deepmac): 2.29s\n",
      "[       OK ] ModelBuilderTF2Test.test_create_center_net_deepmac\n",
      "[ RUN      ] ModelBuilderTF2Test.test_create_center_net_model0 (customize_head_params=True)\n",
      "INFO:tensorflow:time(__main__.ModelBuilderTF2Test.test_create_center_net_model0 (customize_head_params=True)): 1.09s\n",
      "I0520 17:23:31.786489 18772 test_util.py:2460] time(__main__.ModelBuilderTF2Test.test_create_center_net_model0 (customize_head_params=True)): 1.09s\n",
      "[       OK ] ModelBuilderTF2Test.test_create_center_net_model0 (customize_head_params=True)\n",
      "[ RUN      ] ModelBuilderTF2Test.test_create_center_net_model1 (customize_head_params=False)\n",
      "INFO:tensorflow:time(__main__.ModelBuilderTF2Test.test_create_center_net_model1 (customize_head_params=False)): 0.28s\n",
      "I0520 17:23:32.064761 18772 test_util.py:2460] time(__main__.ModelBuilderTF2Test.test_create_center_net_model1 (customize_head_params=False)): 0.28s\n",
      "[       OK ] ModelBuilderTF2Test.test_create_center_net_model1 (customize_head_params=False)\n",
      "[ RUN      ] ModelBuilderTF2Test.test_create_center_net_model_from_keypoints\n",
      "INFO:tensorflow:time(__main__.ModelBuilderTF2Test.test_create_center_net_model_from_keypoints): 0.18s\n",
      "I0520 17:23:32.248707 18772 test_util.py:2460] time(__main__.ModelBuilderTF2Test.test_create_center_net_model_from_keypoints): 0.18s\n",
      "[       OK ] ModelBuilderTF2Test.test_create_center_net_model_from_keypoints\n",
      "[ RUN      ] ModelBuilderTF2Test.test_create_center_net_model_mobilenet\n",
      "C:\\Users\\minh3\\.conda\\envs\\py310\\lib\\random.py:370: DeprecationWarning: non-integer arguments to randrange() have been deprecated since Python 3.10 and will be removed in a subsequent version\n",
      "  return self.randrange(a, b+1)\n",
      "INFO:tensorflow:time(__main__.ModelBuilderTF2Test.test_create_center_net_model_mobilenet): 1.58s\n",
      "I0520 17:23:33.824002 18772 test_util.py:2460] time(__main__.ModelBuilderTF2Test.test_create_center_net_model_mobilenet): 1.58s\n",
      "[       OK ] ModelBuilderTF2Test.test_create_center_net_model_mobilenet\n",
      "[ RUN      ] ModelBuilderTF2Test.test_create_experimental_model\n",
      "INFO:tensorflow:time(__main__.ModelBuilderTF2Test.test_create_experimental_model): 0.0s\n",
      "I0520 17:23:33.828877 18772 test_util.py:2460] time(__main__.ModelBuilderTF2Test.test_create_experimental_model): 0.0s\n",
      "[       OK ] ModelBuilderTF2Test.test_create_experimental_model\n",
      "[ RUN      ] ModelBuilderTF2Test.test_create_faster_rcnn_from_config_with_crop_feature0 (True)\n",
      "INFO:tensorflow:time(__main__.ModelBuilderTF2Test.test_create_faster_rcnn_from_config_with_crop_feature0 (True)): 0.02s\n",
      "I0520 17:23:33.847383 18772 test_util.py:2460] time(__main__.ModelBuilderTF2Test.test_create_faster_rcnn_from_config_with_crop_feature0 (True)): 0.02s\n",
      "[       OK ] ModelBuilderTF2Test.test_create_faster_rcnn_from_config_with_crop_feature0 (True)\n",
      "[ RUN      ] ModelBuilderTF2Test.test_create_faster_rcnn_from_config_with_crop_feature1 (False)\n",
      "INFO:tensorflow:time(__main__.ModelBuilderTF2Test.test_create_faster_rcnn_from_config_with_crop_feature1 (False)): 0.01s\n",
      "I0520 17:23:33.861383 18772 test_util.py:2460] time(__main__.ModelBuilderTF2Test.test_create_faster_rcnn_from_config_with_crop_feature1 (False)): 0.01s\n",
      "[       OK ] ModelBuilderTF2Test.test_create_faster_rcnn_from_config_with_crop_feature1 (False)\n",
      "[ RUN      ] ModelBuilderTF2Test.test_create_faster_rcnn_model_from_config_with_example_miner\n",
      "INFO:tensorflow:time(__main__.ModelBuilderTF2Test.test_create_faster_rcnn_model_from_config_with_example_miner): 0.01s\n",
      "I0520 17:23:33.873411 18772 test_util.py:2460] time(__main__.ModelBuilderTF2Test.test_create_faster_rcnn_model_from_config_with_example_miner): 0.01s\n",
      "[       OK ] ModelBuilderTF2Test.test_create_faster_rcnn_model_from_config_with_example_miner\n",
      "[ RUN      ] ModelBuilderTF2Test.test_create_faster_rcnn_models_from_config_faster_rcnn_with_matmul\n",
      "INFO:tensorflow:time(__main__.ModelBuilderTF2Test.test_create_faster_rcnn_models_from_config_faster_rcnn_with_matmul): 0.07s\n",
      "I0520 17:23:33.946588 18772 test_util.py:2460] time(__main__.ModelBuilderTF2Test.test_create_faster_rcnn_models_from_config_faster_rcnn_with_matmul): 0.07s\n",
      "[       OK ] ModelBuilderTF2Test.test_create_faster_rcnn_models_from_config_faster_rcnn_with_matmul\n",
      "[ RUN      ] ModelBuilderTF2Test.test_create_faster_rcnn_models_from_config_faster_rcnn_without_matmul\n",
      "INFO:tensorflow:time(__main__.ModelBuilderTF2Test.test_create_faster_rcnn_models_from_config_faster_rcnn_without_matmul): 0.07s\n",
      "I0520 17:23:34.019805 18772 test_util.py:2460] time(__main__.ModelBuilderTF2Test.test_create_faster_rcnn_models_from_config_faster_rcnn_without_matmul): 0.07s\n",
      "[       OK ] ModelBuilderTF2Test.test_create_faster_rcnn_models_from_config_faster_rcnn_without_matmul\n",
      "[ RUN      ] ModelBuilderTF2Test.test_create_faster_rcnn_models_from_config_mask_rcnn_with_matmul\n",
      "INFO:tensorflow:time(__main__.ModelBuilderTF2Test.test_create_faster_rcnn_models_from_config_mask_rcnn_with_matmul): 0.07s\n",
      "I0520 17:23:34.089326 18772 test_util.py:2460] time(__main__.ModelBuilderTF2Test.test_create_faster_rcnn_models_from_config_mask_rcnn_with_matmul): 0.07s\n",
      "[       OK ] ModelBuilderTF2Test.test_create_faster_rcnn_models_from_config_mask_rcnn_with_matmul\n",
      "[ RUN      ] ModelBuilderTF2Test.test_create_faster_rcnn_models_from_config_mask_rcnn_without_matmul\n",
      "INFO:tensorflow:time(__main__.ModelBuilderTF2Test.test_create_faster_rcnn_models_from_config_mask_rcnn_without_matmul): 0.07s\n",
      "I0520 17:23:34.157963 18772 test_util.py:2460] time(__main__.ModelBuilderTF2Test.test_create_faster_rcnn_models_from_config_mask_rcnn_without_matmul): 0.07s\n",
      "[       OK ] ModelBuilderTF2Test.test_create_faster_rcnn_models_from_config_mask_rcnn_without_matmul\n",
      "[ RUN      ] ModelBuilderTF2Test.test_create_rfcn_model_from_config\n",
      "INFO:tensorflow:time(__main__.ModelBuilderTF2Test.test_create_rfcn_model_from_config): 0.07s\n",
      "I0520 17:23:34.232960 18772 test_util.py:2460] time(__main__.ModelBuilderTF2Test.test_create_rfcn_model_from_config): 0.07s\n",
      "[       OK ] ModelBuilderTF2Test.test_create_rfcn_model_from_config\n",
      "[ RUN      ] ModelBuilderTF2Test.test_create_ssd_fpn_model_from_config\n",
      "INFO:tensorflow:time(__main__.ModelBuilderTF2Test.test_create_ssd_fpn_model_from_config): 0.03s\n",
      "I0520 17:23:34.258459 18772 test_util.py:2460] time(__main__.ModelBuilderTF2Test.test_create_ssd_fpn_model_from_config): 0.03s\n",
      "[       OK ] ModelBuilderTF2Test.test_create_ssd_fpn_model_from_config\n",
      "[ RUN      ] ModelBuilderTF2Test.test_create_ssd_models_from_config\n",
      "I0520 17:23:34.507876 18772 ssd_efficientnet_bifpn_feature_extractor.py:161] EfficientDet EfficientNet backbone version: efficientnet-b0\n",
      "I0520 17:23:34.507876 18772 ssd_efficientnet_bifpn_feature_extractor.py:163] EfficientDet BiFPN num filters: 64\n",
      "I0520 17:23:34.507876 18772 ssd_efficientnet_bifpn_feature_extractor.py:164] EfficientDet BiFPN num iterations: 3\n",
      "I0520 17:23:34.509876 18772 efficientnet_model.py:143] round_filter input=32 output=32\n",
      "I0520 17:23:34.533880 18772 efficientnet_model.py:143] round_filter input=32 output=32\n",
      "I0520 17:23:34.533880 18772 efficientnet_model.py:143] round_filter input=16 output=16\n",
      "I0520 17:23:34.591193 18772 efficientnet_model.py:143] round_filter input=16 output=16\n",
      "I0520 17:23:34.591193 18772 efficientnet_model.py:143] round_filter input=24 output=24\n",
      "I0520 17:23:34.735930 18772 efficientnet_model.py:143] round_filter input=24 output=24\n",
      "I0520 17:23:34.735930 18772 efficientnet_model.py:143] round_filter input=40 output=40\n",
      "I0520 17:23:34.873134 18772 efficientnet_model.py:143] round_filter input=40 output=40\n",
      "I0520 17:23:34.873134 18772 efficientnet_model.py:143] round_filter input=80 output=80\n",
      "I0520 17:23:35.083338 18772 efficientnet_model.py:143] round_filter input=80 output=80\n",
      "I0520 17:23:35.083338 18772 efficientnet_model.py:143] round_filter input=112 output=112\n",
      "I0520 17:23:35.294907 18772 efficientnet_model.py:143] round_filter input=112 output=112\n",
      "I0520 17:23:35.294907 18772 efficientnet_model.py:143] round_filter input=192 output=192\n",
      "I0520 17:23:35.551913 18772 efficientnet_model.py:143] round_filter input=192 output=192\n",
      "I0520 17:23:35.551913 18772 efficientnet_model.py:143] round_filter input=320 output=320\n",
      "I0520 17:23:35.621656 18772 efficientnet_model.py:143] round_filter input=1280 output=1280\n",
      "I0520 17:23:35.657169 18772 efficientnet_model.py:453] Building model efficientnet with params ModelConfig(width_coefficient=1.0, depth_coefficient=1.0, resolution=224, dropout_rate=0.2, blocks=(BlockConfig(input_filters=32, output_filters=16, kernel_size=3, num_repeat=1, expand_ratio=1, strides=(1, 1), se_ratio=0.25, id_skip=True, fused_conv=False, conv_type='depthwise'), BlockConfig(input_filters=16, output_filters=24, kernel_size=3, num_repeat=2, expand_ratio=6, strides=(2, 2), se_ratio=0.25, id_skip=True, fused_conv=False, conv_type='depthwise'), BlockConfig(input_filters=24, output_filters=40, kernel_size=5, num_repeat=2, expand_ratio=6, strides=(2, 2), se_ratio=0.25, id_skip=True, fused_conv=False, conv_type='depthwise'), BlockConfig(input_filters=40, output_filters=80, kernel_size=3, num_repeat=3, expand_ratio=6, strides=(2, 2), se_ratio=0.25, id_skip=True, fused_conv=False, conv_type='depthwise'), BlockConfig(input_filters=80, output_filters=112, kernel_size=5, num_repeat=3, expand_ratio=6, strides=(1, 1), se_ratio=0.25, id_skip=True, fused_conv=False, conv_type='depthwise'), BlockConfig(input_filters=112, output_filters=192, kernel_size=5, num_repeat=4, expand_ratio=6, strides=(2, 2), se_ratio=0.25, id_skip=True, fused_conv=False, conv_type='depthwise'), BlockConfig(input_filters=192, output_filters=320, kernel_size=3, num_repeat=1, expand_ratio=6, strides=(1, 1), se_ratio=0.25, id_skip=True, fused_conv=False, conv_type='depthwise')), stem_base_filters=32, top_base_filters=1280, activation='simple_swish', batch_norm='default', bn_momentum=0.99, bn_epsilon=0.001, weight_decay=5e-06, drop_connect_rate=0.2, depth_divisor=8, min_depth=None, use_se=True, input_channels=3, num_classes=1000, model_name='efficientnet', rescale_input=False, data_format='channels_last', dtype='float32')\n",
      "I0520 17:23:35.696168 18772 ssd_efficientnet_bifpn_feature_extractor.py:161] EfficientDet EfficientNet backbone version: efficientnet-b1\n",
      "I0520 17:23:35.696168 18772 ssd_efficientnet_bifpn_feature_extractor.py:163] EfficientDet BiFPN num filters: 88\n",
      "I0520 17:23:35.696168 18772 ssd_efficientnet_bifpn_feature_extractor.py:164] EfficientDet BiFPN num iterations: 4\n",
      "I0520 17:23:35.697168 18772 efficientnet_model.py:143] round_filter input=32 output=32\n",
      "I0520 17:23:35.709362 18772 efficientnet_model.py:143] round_filter input=32 output=32\n",
      "I0520 17:23:35.709362 18772 efficientnet_model.py:143] round_filter input=16 output=16\n",
      "I0520 17:23:35.808451 18772 efficientnet_model.py:143] round_filter input=16 output=16\n",
      "I0520 17:23:35.808451 18772 efficientnet_model.py:143] round_filter input=24 output=24\n",
      "I0520 17:23:35.996216 18772 efficientnet_model.py:143] round_filter input=24 output=24\n",
      "I0520 17:23:35.996216 18772 efficientnet_model.py:143] round_filter input=40 output=40\n",
      "I0520 17:23:36.178461 18772 efficientnet_model.py:143] round_filter input=40 output=40\n",
      "I0520 17:23:36.178461 18772 efficientnet_model.py:143] round_filter input=80 output=80\n",
      "I0520 17:23:36.450147 18772 efficientnet_model.py:143] round_filter input=80 output=80\n",
      "I0520 17:23:36.450147 18772 efficientnet_model.py:143] round_filter input=112 output=112\n",
      "I0520 17:23:36.697403 18772 efficientnet_model.py:143] round_filter input=112 output=112\n",
      "I0520 17:23:36.698403 18772 efficientnet_model.py:143] round_filter input=192 output=192\n",
      "I0520 17:23:37.016448 18772 efficientnet_model.py:143] round_filter input=192 output=192\n",
      "I0520 17:23:37.016448 18772 efficientnet_model.py:143] round_filter input=320 output=320\n",
      "I0520 17:23:37.143215 18772 efficientnet_model.py:143] round_filter input=1280 output=1280\n",
      "I0520 17:23:37.168854 18772 efficientnet_model.py:453] Building model efficientnet with params ModelConfig(width_coefficient=1.0, depth_coefficient=1.1, resolution=240, dropout_rate=0.2, blocks=(BlockConfig(input_filters=32, output_filters=16, kernel_size=3, num_repeat=1, expand_ratio=1, strides=(1, 1), se_ratio=0.25, id_skip=True, fused_conv=False, conv_type='depthwise'), BlockConfig(input_filters=16, output_filters=24, kernel_size=3, num_repeat=2, expand_ratio=6, strides=(2, 2), se_ratio=0.25, id_skip=True, fused_conv=False, conv_type='depthwise'), BlockConfig(input_filters=24, output_filters=40, kernel_size=5, num_repeat=2, expand_ratio=6, strides=(2, 2), se_ratio=0.25, id_skip=True, fused_conv=False, conv_type='depthwise'), BlockConfig(input_filters=40, output_filters=80, kernel_size=3, num_repeat=3, expand_ratio=6, strides=(2, 2), se_ratio=0.25, id_skip=True, fused_conv=False, conv_type='depthwise'), BlockConfig(input_filters=80, output_filters=112, kernel_size=5, num_repeat=3, expand_ratio=6, strides=(1, 1), se_ratio=0.25, id_skip=True, fused_conv=False, conv_type='depthwise'), BlockConfig(input_filters=112, output_filters=192, kernel_size=5, num_repeat=4, expand_ratio=6, strides=(2, 2), se_ratio=0.25, id_skip=True, fused_conv=False, conv_type='depthwise'), BlockConfig(input_filters=192, output_filters=320, kernel_size=3, num_repeat=1, expand_ratio=6, strides=(1, 1), se_ratio=0.25, id_skip=True, fused_conv=False, conv_type='depthwise')), stem_base_filters=32, top_base_filters=1280, activation='simple_swish', batch_norm='default', bn_momentum=0.99, bn_epsilon=0.001, weight_decay=5e-06, drop_connect_rate=0.2, depth_divisor=8, min_depth=None, use_se=True, input_channels=3, num_classes=1000, model_name='efficientnet', rescale_input=False, data_format='channels_last', dtype='float32')\n",
      "I0520 17:23:37.219063 18772 ssd_efficientnet_bifpn_feature_extractor.py:161] EfficientDet EfficientNet backbone version: efficientnet-b2\n",
      "I0520 17:23:37.219063 18772 ssd_efficientnet_bifpn_feature_extractor.py:163] EfficientDet BiFPN num filters: 112\n",
      "I0520 17:23:37.219063 18772 ssd_efficientnet_bifpn_feature_extractor.py:164] EfficientDet BiFPN num iterations: 5\n",
      "I0520 17:23:37.220063 18772 efficientnet_model.py:143] round_filter input=32 output=32\n",
      "I0520 17:23:37.236670 18772 efficientnet_model.py:143] round_filter input=32 output=32\n",
      "I0520 17:23:37.236670 18772 efficientnet_model.py:143] round_filter input=16 output=16\n",
      "I0520 17:23:37.340530 18772 efficientnet_model.py:143] round_filter input=16 output=16\n",
      "I0520 17:23:37.340530 18772 efficientnet_model.py:143] round_filter input=24 output=24\n",
      "I0520 17:23:37.529925 18772 efficientnet_model.py:143] round_filter input=24 output=24\n",
      "I0520 17:23:37.530922 18772 efficientnet_model.py:143] round_filter input=40 output=48\n",
      "I0520 17:23:37.746119 18772 efficientnet_model.py:143] round_filter input=40 output=48\n",
      "I0520 17:23:37.747093 18772 efficientnet_model.py:143] round_filter input=80 output=88\n",
      "I0520 17:23:38.135595 18772 efficientnet_model.py:143] round_filter input=80 output=88\n",
      "I0520 17:23:38.135595 18772 efficientnet_model.py:143] round_filter input=112 output=120\n",
      "I0520 17:23:38.406247 18772 efficientnet_model.py:143] round_filter input=112 output=120\n",
      "I0520 17:23:38.406247 18772 efficientnet_model.py:143] round_filter input=192 output=208\n",
      "I0520 17:23:38.731757 18772 efficientnet_model.py:143] round_filter input=192 output=208\n",
      "I0520 17:23:38.731757 18772 efficientnet_model.py:143] round_filter input=320 output=352\n",
      "I0520 17:23:38.873013 18772 efficientnet_model.py:143] round_filter input=1280 output=1408\n",
      "I0520 17:23:38.901572 18772 efficientnet_model.py:453] Building model efficientnet with params ModelConfig(width_coefficient=1.1, depth_coefficient=1.2, resolution=260, dropout_rate=0.3, blocks=(BlockConfig(input_filters=32, output_filters=16, kernel_size=3, num_repeat=1, expand_ratio=1, strides=(1, 1), se_ratio=0.25, id_skip=True, fused_conv=False, conv_type='depthwise'), BlockConfig(input_filters=16, output_filters=24, kernel_size=3, num_repeat=2, expand_ratio=6, strides=(2, 2), se_ratio=0.25, id_skip=True, fused_conv=False, conv_type='depthwise'), BlockConfig(input_filters=24, output_filters=40, kernel_size=5, num_repeat=2, expand_ratio=6, strides=(2, 2), se_ratio=0.25, id_skip=True, fused_conv=False, conv_type='depthwise'), BlockConfig(input_filters=40, output_filters=80, kernel_size=3, num_repeat=3, expand_ratio=6, strides=(2, 2), se_ratio=0.25, id_skip=True, fused_conv=False, conv_type='depthwise'), BlockConfig(input_filters=80, output_filters=112, kernel_size=5, num_repeat=3, expand_ratio=6, strides=(1, 1), se_ratio=0.25, id_skip=True, fused_conv=False, conv_type='depthwise'), BlockConfig(input_filters=112, output_filters=192, kernel_size=5, num_repeat=4, expand_ratio=6, strides=(2, 2), se_ratio=0.25, id_skip=True, fused_conv=False, conv_type='depthwise'), BlockConfig(input_filters=192, output_filters=320, kernel_size=3, num_repeat=1, expand_ratio=6, strides=(1, 1), se_ratio=0.25, id_skip=True, fused_conv=False, conv_type='depthwise')), stem_base_filters=32, top_base_filters=1280, activation='simple_swish', batch_norm='default', bn_momentum=0.99, bn_epsilon=0.001, weight_decay=5e-06, drop_connect_rate=0.2, depth_divisor=8, min_depth=None, use_se=True, input_channels=3, num_classes=1000, model_name='efficientnet', rescale_input=False, data_format='channels_last', dtype='float32')\n",
      "I0520 17:23:38.945136 18772 ssd_efficientnet_bifpn_feature_extractor.py:161] EfficientDet EfficientNet backbone version: efficientnet-b3\n",
      "I0520 17:23:38.945136 18772 ssd_efficientnet_bifpn_feature_extractor.py:163] EfficientDet BiFPN num filters: 160\n",
      "I0520 17:23:38.945136 18772 ssd_efficientnet_bifpn_feature_extractor.py:164] EfficientDet BiFPN num iterations: 6\n",
      "I0520 17:23:38.946136 18772 efficientnet_model.py:143] round_filter input=32 output=40\n",
      "I0520 17:23:38.962506 18772 efficientnet_model.py:143] round_filter input=32 output=40\n",
      "I0520 17:23:38.962506 18772 efficientnet_model.py:143] round_filter input=16 output=24\n",
      "I0520 17:23:39.070129 18772 efficientnet_model.py:143] round_filter input=16 output=24\n",
      "I0520 17:23:39.070129 18772 efficientnet_model.py:143] round_filter input=24 output=32\n",
      "I0520 17:23:39.278939 18772 efficientnet_model.py:143] round_filter input=24 output=32\n",
      "I0520 17:23:39.279939 18772 efficientnet_model.py:143] round_filter input=40 output=48\n",
      "I0520 17:23:39.494886 18772 efficientnet_model.py:143] round_filter input=40 output=48\n",
      "I0520 17:23:39.494886 18772 efficientnet_model.py:143] round_filter input=80 output=96\n",
      "I0520 17:23:39.810116 18772 efficientnet_model.py:143] round_filter input=80 output=96\n",
      "I0520 17:23:39.810116 18772 efficientnet_model.py:143] round_filter input=112 output=136\n",
      "I0520 17:23:40.135456 18772 efficientnet_model.py:143] round_filter input=112 output=136\n",
      "I0520 17:23:40.135456 18772 efficientnet_model.py:143] round_filter input=192 output=232\n",
      "I0520 17:23:40.551501 18772 efficientnet_model.py:143] round_filter input=192 output=232\n",
      "I0520 17:23:40.551501 18772 efficientnet_model.py:143] round_filter input=320 output=384\n",
      "I0520 17:23:40.685694 18772 efficientnet_model.py:143] round_filter input=1280 output=1536\n",
      "I0520 17:23:40.713799 18772 efficientnet_model.py:453] Building model efficientnet with params ModelConfig(width_coefficient=1.2, depth_coefficient=1.4, resolution=300, dropout_rate=0.3, blocks=(BlockConfig(input_filters=32, output_filters=16, kernel_size=3, num_repeat=1, expand_ratio=1, strides=(1, 1), se_ratio=0.25, id_skip=True, fused_conv=False, conv_type='depthwise'), BlockConfig(input_filters=16, output_filters=24, kernel_size=3, num_repeat=2, expand_ratio=6, strides=(2, 2), se_ratio=0.25, id_skip=True, fused_conv=False, conv_type='depthwise'), BlockConfig(input_filters=24, output_filters=40, kernel_size=5, num_repeat=2, expand_ratio=6, strides=(2, 2), se_ratio=0.25, id_skip=True, fused_conv=False, conv_type='depthwise'), BlockConfig(input_filters=40, output_filters=80, kernel_size=3, num_repeat=3, expand_ratio=6, strides=(2, 2), se_ratio=0.25, id_skip=True, fused_conv=False, conv_type='depthwise'), BlockConfig(input_filters=80, output_filters=112, kernel_size=5, num_repeat=3, expand_ratio=6, strides=(1, 1), se_ratio=0.25, id_skip=True, fused_conv=False, conv_type='depthwise'), BlockConfig(input_filters=112, output_filters=192, kernel_size=5, num_repeat=4, expand_ratio=6, strides=(2, 2), se_ratio=0.25, id_skip=True, fused_conv=False, conv_type='depthwise'), BlockConfig(input_filters=192, output_filters=320, kernel_size=3, num_repeat=1, expand_ratio=6, strides=(1, 1), se_ratio=0.25, id_skip=True, fused_conv=False, conv_type='depthwise')), stem_base_filters=32, top_base_filters=1280, activation='simple_swish', batch_norm='default', bn_momentum=0.99, bn_epsilon=0.001, weight_decay=5e-06, drop_connect_rate=0.2, depth_divisor=8, min_depth=None, use_se=True, input_channels=3, num_classes=1000, model_name='efficientnet', rescale_input=False, data_format='channels_last', dtype='float32')\n",
      "I0520 17:23:40.763931 18772 ssd_efficientnet_bifpn_feature_extractor.py:161] EfficientDet EfficientNet backbone version: efficientnet-b4\n",
      "I0520 17:23:40.763931 18772 ssd_efficientnet_bifpn_feature_extractor.py:163] EfficientDet BiFPN num filters: 224\n",
      "I0520 17:23:40.763931 18772 ssd_efficientnet_bifpn_feature_extractor.py:164] EfficientDet BiFPN num iterations: 7\n",
      "I0520 17:23:40.765923 18772 efficientnet_model.py:143] round_filter input=32 output=48\n",
      "I0520 17:23:40.781935 18772 efficientnet_model.py:143] round_filter input=32 output=48\n",
      "I0520 17:23:40.781935 18772 efficientnet_model.py:143] round_filter input=16 output=24\n",
      "I0520 17:23:40.884695 18772 efficientnet_model.py:143] round_filter input=16 output=24\n",
      "I0520 17:23:40.884695 18772 efficientnet_model.py:143] round_filter input=24 output=32\n",
      "I0520 17:23:41.150092 18772 efficientnet_model.py:143] round_filter input=24 output=32\n",
      "I0520 17:23:41.150092 18772 efficientnet_model.py:143] round_filter input=40 output=56\n",
      "I0520 17:23:41.434330 18772 efficientnet_model.py:143] round_filter input=40 output=56\n",
      "I0520 17:23:41.434330 18772 efficientnet_model.py:143] round_filter input=80 output=112\n",
      "I0520 17:23:41.802927 18772 efficientnet_model.py:143] round_filter input=80 output=112\n",
      "I0520 17:23:41.803927 18772 efficientnet_model.py:143] round_filter input=112 output=160\n",
      "I0520 17:23:42.181159 18772 efficientnet_model.py:143] round_filter input=112 output=160\n",
      "I0520 17:23:42.181159 18772 efficientnet_model.py:143] round_filter input=192 output=272\n",
      "I0520 17:23:42.857622 18772 efficientnet_model.py:143] round_filter input=192 output=272\n",
      "I0520 17:23:42.857622 18772 efficientnet_model.py:143] round_filter input=320 output=448\n",
      "I0520 17:23:42.997130 18772 efficientnet_model.py:143] round_filter input=1280 output=1792\n",
      "I0520 17:23:43.027005 18772 efficientnet_model.py:453] Building model efficientnet with params ModelConfig(width_coefficient=1.4, depth_coefficient=1.8, resolution=380, dropout_rate=0.4, blocks=(BlockConfig(input_filters=32, output_filters=16, kernel_size=3, num_repeat=1, expand_ratio=1, strides=(1, 1), se_ratio=0.25, id_skip=True, fused_conv=False, conv_type='depthwise'), BlockConfig(input_filters=16, output_filters=24, kernel_size=3, num_repeat=2, expand_ratio=6, strides=(2, 2), se_ratio=0.25, id_skip=True, fused_conv=False, conv_type='depthwise'), BlockConfig(input_filters=24, output_filters=40, kernel_size=5, num_repeat=2, expand_ratio=6, strides=(2, 2), se_ratio=0.25, id_skip=True, fused_conv=False, conv_type='depthwise'), BlockConfig(input_filters=40, output_filters=80, kernel_size=3, num_repeat=3, expand_ratio=6, strides=(2, 2), se_ratio=0.25, id_skip=True, fused_conv=False, conv_type='depthwise'), BlockConfig(input_filters=80, output_filters=112, kernel_size=5, num_repeat=3, expand_ratio=6, strides=(1, 1), se_ratio=0.25, id_skip=True, fused_conv=False, conv_type='depthwise'), BlockConfig(input_filters=112, output_filters=192, kernel_size=5, num_repeat=4, expand_ratio=6, strides=(2, 2), se_ratio=0.25, id_skip=True, fused_conv=False, conv_type='depthwise'), BlockConfig(input_filters=192, output_filters=320, kernel_size=3, num_repeat=1, expand_ratio=6, strides=(1, 1), se_ratio=0.25, id_skip=True, fused_conv=False, conv_type='depthwise')), stem_base_filters=32, top_base_filters=1280, activation='simple_swish', batch_norm='default', bn_momentum=0.99, bn_epsilon=0.001, weight_decay=5e-06, drop_connect_rate=0.2, depth_divisor=8, min_depth=None, use_se=True, input_channels=3, num_classes=1000, model_name='efficientnet', rescale_input=False, data_format='channels_last', dtype='float32')\n",
      "I0520 17:23:43.089688 18772 ssd_efficientnet_bifpn_feature_extractor.py:161] EfficientDet EfficientNet backbone version: efficientnet-b5\n",
      "I0520 17:23:43.090680 18772 ssd_efficientnet_bifpn_feature_extractor.py:163] EfficientDet BiFPN num filters: 288\n",
      "I0520 17:23:43.090680 18772 ssd_efficientnet_bifpn_feature_extractor.py:164] EfficientDet BiFPN num iterations: 7\n",
      "I0520 17:23:43.091692 18772 efficientnet_model.py:143] round_filter input=32 output=48\n",
      "I0520 17:23:43.105904 18772 efficientnet_model.py:143] round_filter input=32 output=48\n",
      "I0520 17:23:43.105904 18772 efficientnet_model.py:143] round_filter input=16 output=24\n",
      "I0520 17:23:43.268013 18772 efficientnet_model.py:143] round_filter input=16 output=24\n",
      "I0520 17:23:43.268013 18772 efficientnet_model.py:143] round_filter input=24 output=40\n",
      "I0520 17:23:43.591123 18772 efficientnet_model.py:143] round_filter input=24 output=40\n",
      "I0520 17:23:43.591123 18772 efficientnet_model.py:143] round_filter input=40 output=64\n",
      "I0520 17:23:43.941095 18772 efficientnet_model.py:143] round_filter input=40 output=64\n",
      "I0520 17:23:43.941095 18772 efficientnet_model.py:143] round_filter input=80 output=128\n",
      "I0520 17:23:44.533711 18772 efficientnet_model.py:143] round_filter input=80 output=128\n",
      "I0520 17:23:44.533711 18772 efficientnet_model.py:143] round_filter input=112 output=176\n",
      "I0520 17:23:45.012908 18772 efficientnet_model.py:143] round_filter input=112 output=176\n",
      "I0520 17:23:45.013910 18772 efficientnet_model.py:143] round_filter input=192 output=304\n",
      "I0520 17:23:45.683417 18772 efficientnet_model.py:143] round_filter input=192 output=304\n",
      "I0520 17:23:45.683417 18772 efficientnet_model.py:143] round_filter input=320 output=512\n",
      "I0520 17:23:46.023142 18772 efficientnet_model.py:143] round_filter input=1280 output=2048\n",
      "I0520 17:23:46.058751 18772 efficientnet_model.py:453] Building model efficientnet with params ModelConfig(width_coefficient=1.6, depth_coefficient=2.2, resolution=456, dropout_rate=0.4, blocks=(BlockConfig(input_filters=32, output_filters=16, kernel_size=3, num_repeat=1, expand_ratio=1, strides=(1, 1), se_ratio=0.25, id_skip=True, fused_conv=False, conv_type='depthwise'), BlockConfig(input_filters=16, output_filters=24, kernel_size=3, num_repeat=2, expand_ratio=6, strides=(2, 2), se_ratio=0.25, id_skip=True, fused_conv=False, conv_type='depthwise'), BlockConfig(input_filters=24, output_filters=40, kernel_size=5, num_repeat=2, expand_ratio=6, strides=(2, 2), se_ratio=0.25, id_skip=True, fused_conv=False, conv_type='depthwise'), BlockConfig(input_filters=40, output_filters=80, kernel_size=3, num_repeat=3, expand_ratio=6, strides=(2, 2), se_ratio=0.25, id_skip=True, fused_conv=False, conv_type='depthwise'), BlockConfig(input_filters=80, output_filters=112, kernel_size=5, num_repeat=3, expand_ratio=6, strides=(1, 1), se_ratio=0.25, id_skip=True, fused_conv=False, conv_type='depthwise'), BlockConfig(input_filters=112, output_filters=192, kernel_size=5, num_repeat=4, expand_ratio=6, strides=(2, 2), se_ratio=0.25, id_skip=True, fused_conv=False, conv_type='depthwise'), BlockConfig(input_filters=192, output_filters=320, kernel_size=3, num_repeat=1, expand_ratio=6, strides=(1, 1), se_ratio=0.25, id_skip=True, fused_conv=False, conv_type='depthwise')), stem_base_filters=32, top_base_filters=1280, activation='simple_swish', batch_norm='default', bn_momentum=0.99, bn_epsilon=0.001, weight_decay=5e-06, drop_connect_rate=0.2, depth_divisor=8, min_depth=None, use_se=True, input_channels=3, num_classes=1000, model_name='efficientnet', rescale_input=False, data_format='channels_last', dtype='float32')\n",
      "I0520 17:23:46.142920 18772 ssd_efficientnet_bifpn_feature_extractor.py:161] EfficientDet EfficientNet backbone version: efficientnet-b6\n",
      "I0520 17:23:46.142920 18772 ssd_efficientnet_bifpn_feature_extractor.py:163] EfficientDet BiFPN num filters: 384\n",
      "I0520 17:23:46.142920 18772 ssd_efficientnet_bifpn_feature_extractor.py:164] EfficientDet BiFPN num iterations: 8\n",
      "I0520 17:23:46.144285 18772 efficientnet_model.py:143] round_filter input=32 output=56\n",
      "I0520 17:23:46.165870 18772 efficientnet_model.py:143] round_filter input=32 output=56\n",
      "I0520 17:23:46.165870 18772 efficientnet_model.py:143] round_filter input=16 output=32\n",
      "I0520 17:23:46.382401 18772 efficientnet_model.py:143] round_filter input=16 output=32\n",
      "I0520 17:23:46.383399 18772 efficientnet_model.py:143] round_filter input=24 output=40\n",
      "I0520 17:23:46.887226 18772 efficientnet_model.py:143] round_filter input=24 output=40\n",
      "I0520 17:23:46.887226 18772 efficientnet_model.py:143] round_filter input=40 output=72\n",
      "I0520 17:23:47.820630 18772 efficientnet_model.py:143] round_filter input=40 output=72\n",
      "I0520 17:23:47.820630 18772 efficientnet_model.py:143] round_filter input=80 output=144\n",
      "I0520 17:23:49.198715 18772 efficientnet_model.py:143] round_filter input=80 output=144\n",
      "I0520 17:23:49.198715 18772 efficientnet_model.py:143] round_filter input=112 output=200\n",
      "I0520 17:23:50.178967 18772 efficientnet_model.py:143] round_filter input=112 output=200\n",
      "I0520 17:23:50.178967 18772 efficientnet_model.py:143] round_filter input=192 output=344\n",
      "I0520 17:23:50.929677 18772 efficientnet_model.py:143] round_filter input=192 output=344\n",
      "I0520 17:23:50.929677 18772 efficientnet_model.py:143] round_filter input=320 output=576\n",
      "I0520 17:23:51.130627 18772 efficientnet_model.py:143] round_filter input=1280 output=2304\n",
      "I0520 17:23:51.159390 18772 efficientnet_model.py:453] Building model efficientnet with params ModelConfig(width_coefficient=1.8, depth_coefficient=2.6, resolution=528, dropout_rate=0.5, blocks=(BlockConfig(input_filters=32, output_filters=16, kernel_size=3, num_repeat=1, expand_ratio=1, strides=(1, 1), se_ratio=0.25, id_skip=True, fused_conv=False, conv_type='depthwise'), BlockConfig(input_filters=16, output_filters=24, kernel_size=3, num_repeat=2, expand_ratio=6, strides=(2, 2), se_ratio=0.25, id_skip=True, fused_conv=False, conv_type='depthwise'), BlockConfig(input_filters=24, output_filters=40, kernel_size=5, num_repeat=2, expand_ratio=6, strides=(2, 2), se_ratio=0.25, id_skip=True, fused_conv=False, conv_type='depthwise'), BlockConfig(input_filters=40, output_filters=80, kernel_size=3, num_repeat=3, expand_ratio=6, strides=(2, 2), se_ratio=0.25, id_skip=True, fused_conv=False, conv_type='depthwise'), BlockConfig(input_filters=80, output_filters=112, kernel_size=5, num_repeat=3, expand_ratio=6, strides=(1, 1), se_ratio=0.25, id_skip=True, fused_conv=False, conv_type='depthwise'), BlockConfig(input_filters=112, output_filters=192, kernel_size=5, num_repeat=4, expand_ratio=6, strides=(2, 2), se_ratio=0.25, id_skip=True, fused_conv=False, conv_type='depthwise'), BlockConfig(input_filters=192, output_filters=320, kernel_size=3, num_repeat=1, expand_ratio=6, strides=(1, 1), se_ratio=0.25, id_skip=True, fused_conv=False, conv_type='depthwise')), stem_base_filters=32, top_base_filters=1280, activation='simple_swish', batch_norm='default', bn_momentum=0.99, bn_epsilon=0.001, weight_decay=5e-06, drop_connect_rate=0.2, depth_divisor=8, min_depth=None, use_se=True, input_channels=3, num_classes=1000, model_name='efficientnet', rescale_input=False, data_format='channels_last', dtype='float32')\n",
      "I0520 17:23:51.243261 18772 ssd_efficientnet_bifpn_feature_extractor.py:161] EfficientDet EfficientNet backbone version: efficientnet-b7\n",
      "I0520 17:23:51.243261 18772 ssd_efficientnet_bifpn_feature_extractor.py:163] EfficientDet BiFPN num filters: 384\n",
      "I0520 17:23:51.243261 18772 ssd_efficientnet_bifpn_feature_extractor.py:164] EfficientDet BiFPN num iterations: 8\n",
      "I0520 17:23:51.244270 18772 efficientnet_model.py:143] round_filter input=32 output=64\n",
      "I0520 17:23:51.260361 18772 efficientnet_model.py:143] round_filter input=32 output=64\n",
      "I0520 17:23:51.260361 18772 efficientnet_model.py:143] round_filter input=16 output=32\n",
      "I0520 17:23:51.479388 18772 efficientnet_model.py:143] round_filter input=16 output=32\n",
      "I0520 17:23:51.480388 18772 efficientnet_model.py:143] round_filter input=24 output=48\n",
      "I0520 17:23:51.959711 18772 efficientnet_model.py:143] round_filter input=24 output=48\n",
      "I0520 17:23:51.960635 18772 efficientnet_model.py:143] round_filter input=40 output=80\n",
      "I0520 17:23:52.453522 18772 efficientnet_model.py:143] round_filter input=40 output=80\n",
      "I0520 17:23:52.453522 18772 efficientnet_model.py:143] round_filter input=80 output=160\n",
      "I0520 17:23:53.088273 18772 efficientnet_model.py:143] round_filter input=80 output=160\n",
      "I0520 17:23:53.088273 18772 efficientnet_model.py:143] round_filter input=112 output=224\n",
      "I0520 17:23:53.716506 18772 efficientnet_model.py:143] round_filter input=112 output=224\n",
      "I0520 17:23:53.717506 18772 efficientnet_model.py:143] round_filter input=192 output=384\n",
      "I0520 17:23:54.551094 18772 efficientnet_model.py:143] round_filter input=192 output=384\n",
      "I0520 17:23:54.551094 18772 efficientnet_model.py:143] round_filter input=320 output=640\n",
      "I0520 17:23:54.808895 18772 efficientnet_model.py:143] round_filter input=1280 output=2560\n",
      "I0520 17:23:54.836578 18772 efficientnet_model.py:453] Building model efficientnet with params ModelConfig(width_coefficient=2.0, depth_coefficient=3.1, resolution=600, dropout_rate=0.5, blocks=(BlockConfig(input_filters=32, output_filters=16, kernel_size=3, num_repeat=1, expand_ratio=1, strides=(1, 1), se_ratio=0.25, id_skip=True, fused_conv=False, conv_type='depthwise'), BlockConfig(input_filters=16, output_filters=24, kernel_size=3, num_repeat=2, expand_ratio=6, strides=(2, 2), se_ratio=0.25, id_skip=True, fused_conv=False, conv_type='depthwise'), BlockConfig(input_filters=24, output_filters=40, kernel_size=5, num_repeat=2, expand_ratio=6, strides=(2, 2), se_ratio=0.25, id_skip=True, fused_conv=False, conv_type='depthwise'), BlockConfig(input_filters=40, output_filters=80, kernel_size=3, num_repeat=3, expand_ratio=6, strides=(2, 2), se_ratio=0.25, id_skip=True, fused_conv=False, conv_type='depthwise'), BlockConfig(input_filters=80, output_filters=112, kernel_size=5, num_repeat=3, expand_ratio=6, strides=(1, 1), se_ratio=0.25, id_skip=True, fused_conv=False, conv_type='depthwise'), BlockConfig(input_filters=112, output_filters=192, kernel_size=5, num_repeat=4, expand_ratio=6, strides=(2, 2), se_ratio=0.25, id_skip=True, fused_conv=False, conv_type='depthwise'), BlockConfig(input_filters=192, output_filters=320, kernel_size=3, num_repeat=1, expand_ratio=6, strides=(1, 1), se_ratio=0.25, id_skip=True, fused_conv=False, conv_type='depthwise')), stem_base_filters=32, top_base_filters=1280, activation='simple_swish', batch_norm='default', bn_momentum=0.99, bn_epsilon=0.001, weight_decay=5e-06, drop_connect_rate=0.2, depth_divisor=8, min_depth=None, use_se=True, input_channels=3, num_classes=1000, model_name='efficientnet', rescale_input=False, data_format='channels_last', dtype='float32')\n",
      "INFO:tensorflow:time(__main__.ModelBuilderTF2Test.test_create_ssd_models_from_config): 20.85s\n",
      "I0520 17:23:55.112327 18772 test_util.py:2460] time(__main__.ModelBuilderTF2Test.test_create_ssd_models_from_config): 20.85s\n",
      "[       OK ] ModelBuilderTF2Test.test_create_ssd_models_from_config\n",
      "[ RUN      ] ModelBuilderTF2Test.test_invalid_faster_rcnn_batchnorm_update\n",
      "INFO:tensorflow:time(__main__.ModelBuilderTF2Test.test_invalid_faster_rcnn_batchnorm_update): 0.0s\n",
      "I0520 17:23:55.128299 18772 test_util.py:2460] time(__main__.ModelBuilderTF2Test.test_invalid_faster_rcnn_batchnorm_update): 0.0s\n",
      "[       OK ] ModelBuilderTF2Test.test_invalid_faster_rcnn_batchnorm_update\n",
      "[ RUN      ] ModelBuilderTF2Test.test_invalid_first_stage_nms_iou_threshold\n",
      "INFO:tensorflow:time(__main__.ModelBuilderTF2Test.test_invalid_first_stage_nms_iou_threshold): 0.0s\n",
      "I0520 17:23:55.130299 18772 test_util.py:2460] time(__main__.ModelBuilderTF2Test.test_invalid_first_stage_nms_iou_threshold): 0.0s\n",
      "[       OK ] ModelBuilderTF2Test.test_invalid_first_stage_nms_iou_threshold\n",
      "[ RUN      ] ModelBuilderTF2Test.test_invalid_model_config_proto\n",
      "INFO:tensorflow:time(__main__.ModelBuilderTF2Test.test_invalid_model_config_proto): 0.0s\n",
      "I0520 17:23:55.130299 18772 test_util.py:2460] time(__main__.ModelBuilderTF2Test.test_invalid_model_config_proto): 0.0s\n",
      "[       OK ] ModelBuilderTF2Test.test_invalid_model_config_proto\n",
      "[ RUN      ] ModelBuilderTF2Test.test_invalid_second_stage_batch_size\n",
      "INFO:tensorflow:time(__main__.ModelBuilderTF2Test.test_invalid_second_stage_batch_size): 0.0s\n",
      "I0520 17:23:55.131298 18772 test_util.py:2460] time(__main__.ModelBuilderTF2Test.test_invalid_second_stage_batch_size): 0.0s\n",
      "[       OK ] ModelBuilderTF2Test.test_invalid_second_stage_batch_size\n",
      "[ RUN      ] ModelBuilderTF2Test.test_session\n",
      "[  SKIPPED ] ModelBuilderTF2Test.test_session\n",
      "[ RUN      ] ModelBuilderTF2Test.test_unknown_faster_rcnn_feature_extractor\n",
      "INFO:tensorflow:time(__main__.ModelBuilderTF2Test.test_unknown_faster_rcnn_feature_extractor): 0.0s\n",
      "I0520 17:23:55.132298 18772 test_util.py:2460] time(__main__.ModelBuilderTF2Test.test_unknown_faster_rcnn_feature_extractor): 0.0s\n",
      "[       OK ] ModelBuilderTF2Test.test_unknown_faster_rcnn_feature_extractor\n",
      "[ RUN      ] ModelBuilderTF2Test.test_unknown_meta_architecture\n",
      "INFO:tensorflow:time(__main__.ModelBuilderTF2Test.test_unknown_meta_architecture): 0.0s\n",
      "I0520 17:23:55.132298 18772 test_util.py:2460] time(__main__.ModelBuilderTF2Test.test_unknown_meta_architecture): 0.0s\n",
      "[       OK ] ModelBuilderTF2Test.test_unknown_meta_architecture\n",
      "[ RUN      ] ModelBuilderTF2Test.test_unknown_ssd_feature_extractor\n",
      "INFO:tensorflow:time(__main__.ModelBuilderTF2Test.test_unknown_ssd_feature_extractor): 0.0s\n",
      "I0520 17:23:55.133298 18772 test_util.py:2460] time(__main__.ModelBuilderTF2Test.test_unknown_ssd_feature_extractor): 0.0s\n",
      "[       OK ] ModelBuilderTF2Test.test_unknown_ssd_feature_extractor\n",
      "----------------------------------------------------------------------\n",
      "Ran 24 tests in 26.736s\n",
      "\n",
      "OK (skipped=1)\n"
     ]
    }
   ],
   "source": [
    "VERIFICATION_SCRIPT = os.path.join(paths['APIMODEL_PATH'], 'research', 'object_detection', 'builders', 'model_builder_tf2_test.py')\n",
    "# Verify Installation\n",
    "!python {VERIFICATION_SCRIPT}"
   ]
  },
  {
   "cell_type": "code",
   "execution_count": null,
   "metadata": {
    "id": "uRj0KN0_dROh"
   },
   "outputs": [],
   "source": [
    "# Tải lại tensorflow với version phù hợp(nếu Verify Installation bị lỗi)\n",
    "!pip install tensorflow==2.13.0"
   ]
  },
  {
   "cell_type": "code",
   "execution_count": 36,
   "metadata": {
    "executionInfo": {
     "elapsed": 333,
     "status": "ok",
     "timestamp": 1713146122172,
     "user": {
      "displayName": "Nhật Minh Lâm",
      "userId": "04323035584587404867"
     },
     "user_tz": -420
    },
    "id": "dNb4vXgr6CDL"
   },
   "outputs": [],
   "source": [
    "import object_detection"
   ]
  },
  {
   "cell_type": "markdown",
   "metadata": {
    "id": "u6CuJlaYKFY2"
   },
   "source": [
    "### Cài đặt và giải nén pretrain_model"
   ]
  },
  {
   "cell_type": "code",
   "execution_count": 10,
   "metadata": {
    "colab": {
     "base_uri": "https://localhost:8080/"
    },
    "executionInfo": {
     "elapsed": 1176,
     "status": "ok",
     "timestamp": 1713146129224,
     "user": {
      "displayName": "Nhật Minh Lâm",
      "userId": "04323035584587404867"
     },
     "user_tz": -420
    },
    "id": "r7X_8_U76FQo",
    "outputId": "04aa17b2-ac52-4e67-9c15-a1a5e81a8eb6",
    "scrolled": true
   },
   "outputs": [],
   "source": [
    "if len(os.listdir(paths['PRETRAINED_MODEL_PATH'])) == 0:\n",
    "    !wget {PRETRAINED_MODEL_URL}\n",
    "    !mv {PRETRAINED_MODEL_NAME+'.tar.gz'} {paths['PRETRAINED_MODEL_PATH']}\n",
    "    !cd {paths['PRETRAINED_MODEL_PATH']} && tar -zxvf {PRETRAINED_MODEL_NAME+'.tar.gz'}"
   ]
  },
  {
   "cell_type": "code",
   "execution_count": 16,
   "metadata": {},
   "outputs": [
    {
     "name": "stdout",
     "output_type": "stream",
     "text": [
      "100% [........................................................................] 20518283 / 20518283        1 file(s) moved.\n"
     ]
    },
    {
     "name": "stderr",
     "output_type": "stream",
     "text": [
      "x ssd_mobilenet_v2_fpnlite_640x640_coco17_tpu-8/\n",
      "x ssd_mobilenet_v2_fpnlite_640x640_coco17_tpu-8/checkpoint/\n",
      "x ssd_mobilenet_v2_fpnlite_640x640_coco17_tpu-8/checkpoint/ckpt-0.data-00000-of-00001\n",
      "x ssd_mobilenet_v2_fpnlite_640x640_coco17_tpu-8/checkpoint/checkpoint\n",
      "x ssd_mobilenet_v2_fpnlite_640x640_coco17_tpu-8/checkpoint/ckpt-0.index\n",
      "x ssd_mobilenet_v2_fpnlite_640x640_coco17_tpu-8/pipeline.config\n",
      "x ssd_mobilenet_v2_fpnlite_640x640_coco17_tpu-8/saved_model/\n",
      "x ssd_mobilenet_v2_fpnlite_640x640_coco17_tpu-8/saved_model/saved_model.pb\n",
      "x ssd_mobilenet_v2_fpnlite_640x640_coco17_tpu-8/saved_model/variables/\n",
      "x ssd_mobilenet_v2_fpnlite_640x640_coco17_tpu-8/saved_model/variables/variables.data-00000-of-00001\n",
      "x ssd_mobilenet_v2_fpnlite_640x640_coco17_tpu-8/saved_model/variables/variables.index\n"
     ]
    }
   ],
   "source": [
    "wget.download(PRETRAIN_MODEL_URL)\n",
    "!move {PRETRAIN_MODEL_NAME+'.tar.gz'} {paths['PRETRAINED_MODEL_PATH']}\n",
    "!cd {paths['PRETRAINED_MODEL_PATH']} && tar -zxvf {PRETRAIN_MODEL_NAME+'.tar.gz'}"
   ]
  },
  {
   "cell_type": "code",
   "execution_count": null,
   "metadata": {},
   "outputs": [],
   "source": []
  }
 ],
 "metadata": {
  "colab": {
   "authorship_tag": "ABX9TyOFW7+9vt0UnPFXKaoIIhbI",
   "collapsed_sections": [
    "k7bMtjL_FE0B",
    "3lYhJJ1PKWdm",
    "meddBUJpLuPW",
    "QWVqXXZzW4uW",
    "RNprH0G1XC3T",
    "BwLmej9KY-P3",
    "EXNXH9qjZIM_"
   ],
   "provenance": []
  },
  "kernelspec": {
   "display_name": "Python 3 (ipykernel)",
   "language": "python",
   "name": "python3"
  },
  "language_info": {
   "codemirror_mode": {
    "name": "ipython",
    "version": 3
   },
   "file_extension": ".py",
   "mimetype": "text/x-python",
   "name": "python",
   "nbconvert_exporter": "python",
   "pygments_lexer": "ipython3",
   "version": "3.10.14"
  }
 },
 "nbformat": 4,
 "nbformat_minor": 4
}
